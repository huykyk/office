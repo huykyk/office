{
 "cells": [
  {
   "cell_type": "code",
   "execution_count": 2,
   "metadata": {
    "collapsed": true
   },
   "outputs": [],
   "source": [
    "# kmeans-city\n",
    "import numpy as np  # 导入numpy包\n",
    "from sklearn.cluster import KMeans  # 导入KMeans包"
   ]
  },
  {
   "cell_type": "code",
   "execution_count": 7,
   "metadata": {
    "collapsed": true
   },
   "outputs": [],
   "source": [
    "# 定义一个读取数据的方法loadData(filePath),传入参数filePah为数据源文件在计算机中的路径\n",
    "def loadData(filePath):\n",
    "    fr = open(filePath, 'r+')  # 打开指定文件,获取原始数据\n",
    "\n",
    "    # open()函数打开一个文件\n",
    "    # 第一个参数是文件的路径,格式是字符串\n",
    "    # 路径可以是相对路径,也可以是绝对路径\n",
    "    # 在windows下用\\\\分割路径,在OSX下用/分割\n",
    "    # 第二个参数是打开方式,默认为'r',表示只读\n",
    "    # 此处的'r+'表示可读可写 不会创建不存在的文件 从顶部开始写 会覆盖之前此位置的内容\n",
    "    # open()函数返回一个File对象\n",
    "    # File对象代表计算机中的一个文件,只是Python中另一种类型的值,类似列表和字典\n",
    "    # 此处open()函数返回的File文件保存在变量fr里\n",
    "    # 当需要读写文件时,调用fr变量中File对象的方法\n",
    "\n",
    "    lines = fr.readlines()  # 读取文件,得到文件中的每一行\n",
    "    # readline()方法从当前File文件对象取得一个字符串列表\n",
    "    # 列表中的每个字符串就是文本中的一行\n",
    "    retData = []  # 定义一个空列表,存储城市的房租数据\n",
    "    retCityName = []  # 定义一个空列表,存储城市名称数据\n",
    "    for line in lines:  # 用for循环依次读取数据的每一行,每一行是一个城市\n",
    "        items = line.strip().split(\",\")  # 切片后得到一个新的列表items\n",
    "\n",
    "        # Python strip() 方法用于移除字符串头尾指定的字符（默认为空格）\n",
    "        # Python split() 通过指定分隔符对字符串进行切片\n",
    "        # str.split(str=\"\", num=string.count(str)). 可传入两个参数str和num\n",
    "        # str -- 分隔符，默认为所有的空字符，包括空格、换行(\\n)、制表符(\\t)等。\n",
    "        # num -- 分割次数。如果参数num 有指定值，则仅分隔 num 个子字符串\n",
    "\n",
    "        retCityName.append(items[0])  # items中的第一个元素是城市名称,将其加入城市名称列表\n",
    "        # append() 方法用于在列表末尾添加新的对象。\n",
    "\n",
    "        retData.append([float(items[i]) for i in range(1, len(items))])\n",
    "\n",
    "        # 使用列表解析的方法从items的第二个元素开始读取,边读取边将数据转化为float类型\n",
    "        # range(start, end, scan) 生成一个整数列表\n",
    "        # 第一个参数start表示起始数字,end表示结尾数字,scan表示步长,默认为1\n",
    "\n",
    "    return retData, retCityName  # 返回城市名称和城市房租数据两个列表"
   ]
  },
  {
   "cell_type": "code",
   "execution_count": 8,
   "metadata": {},
   "outputs": [
    {
     "name": "stdout",
     "output_type": "stream",
     "text": [
      "Expenses:3788.76\n",
      "['河北', '山西', '内蒙古', '辽宁', '吉林', '黑龙江', '江西', '山东', '河南', '贵州', '陕西', '甘肃', '青海', '宁夏', '新疆']\n",
      "Expenses:7754.66\n",
      "['北京', '上海', '广东']\n",
      "Expenses:5678.62\n",
      "['天津', '浙江', '福建', '重庆', '西藏']\n",
      "Expenses:4512.27\n",
      "['江苏', '安徽', '湖南', '湖北', '广西', '海南', '四川', '云南']\n"
     ]
    }
   ],
   "source": [
    "if __name__ == '__main__':\n",
    "    #  一个python的文件有两种使用的方法\n",
    "    # 第一是直接作为脚本执行\n",
    "    # 第二是import到其他的python脚本中被调用（模块重用）执行\n",
    "    # 因此if __name__ == 'main': 的作用就是控制这两种情况执行代码的过程\n",
    "    # 在if __name__ == 'main': 下的代码只有在第一种情况下（即文件作为脚本直接执行）才会被执行\n",
    "    # 而import到其他脚本中是不会被执行的\n",
    "    data, cityName = loadData('city.txt')  # 调用loadData方法,获取两个列表\n",
    "    # 'city.txt'使用了相对路径\n",
    "    km = KMeans(n_clusters=4)  # n_clusters用于指定聚类中心的个数\n",
    "    # KMeans(n_clusters, init, max_iter) 方法来自sklearn.cluster下的KMeans包\n",
    "    # n_cluster用于指定聚类中心的个数,一般只用这一个参数\n",
    "    # init初始聚类中心的初始化方法.默认是k-means++\n",
    "    # max_iter最大的迭代次数,默认是300\n",
    "    # 本例中变量km是KMeans返回的一个KMeans类对象\n",
    "    label = km.fit_predict(data)  # fit_predict计算簇中心，同时为簇分配序号\n",
    "    # fit_predict 实际上调用了KMeans类中的fit方法，并返回label\n",
    "    # label是聚类后各数据所属标签\n",
    "    # Compute cluster centers and predict cluster index for each sample\n",
    "    expenses = np.sum(km.cluster_centers_, axis=1)\n",
    "    # numpy.sum(a, axis=None)是numpy的函数\n",
    "    # 按照给定的轴(第二个参数axis)计算数组(第一个参数a)的和\n",
    "    # axis默认为None,简单对所有数值相加; axis=0表示按列相加; axis=1表示按行相加\n",
    "    # 最终返回结果的类型是ndarray\n",
    "    CityCluster = [[], [], [], []]  # 定义有4个元素的列表\n",
    "    # 4与之前指定聚类中心的个数相同\n",
    "    # 每个元素本身又是一个空列表,稍后用来存储城市名称\n",
    "    for i in range(len(cityName)):\n",
    "        CityCluster[label[i]].append(cityName[i])  # 将城市按 label 分成设定的簇\n",
    "        # label[i]得到一个整数,作为CityCluster的下标\n",
    "        # CityCluster[label[i]]得到CityCluster中的第label[i]个元素\n",
    "        # 因为CityCluster中的第label[i]个元素也是列表,所以使用append方法添加元素\n",
    "        # CityCluster[label[i]].append(cityName[i])就是向列表CityCluster[label[i]]中添加cityName[i]\n",
    "    for i in range(len(CityCluster)):\n",
    "        print(\"Expenses:%.2f\" % expenses[i])  # 将每个簇的平均花费输出\n",
    "        # python对字符串操作时定义了%二进制操作符\n",
    "        # %左侧是一个字符串，这个字符串里也有1个或多个百分号%,相当于占位符，是要嵌入的转换目标\n",
    "        # %右侧是用来插入到左侧转换目标位置上去的对象，如果是多个对象，把多个对象嵌入到元组中\n",
    "        # 嵌入一个对象的例子：\n",
    "        # 'The sum of 1 + 2 is %d ' % 3  # %d 表示十进制整数\n",
    "        # 打印结果是 The sum of 1 + 2 is 3\n",
    "        # 嵌入多个对象的例子：\n",
    "        # 'The %s of 1 + is %d ' % ('sum', 3)  # %s表示字符串(或任何对象)，%d 表示十进制整数\n",
    "        # 打印结果是 The sum of 1 + 2 is 3\n",
    "        # 这里因为要分别嵌入'sum'和3两个对象,所以将这两个对象嵌入到元组中('sum', 3)\n",
    "        # python字符串格式化有非常多的用法，细节可参照《Python学习手册》第七章192页到207页\n",
    "        # 接下来只针对本段代码中的使用进行解释\n",
    "        # \"Expenses:%.2f\" % expenses[i]\n",
    "        # 中间的百分号%将表达式分为左右两部分\n",
    "        # 百分号%左侧是字符串 \"Expenses:%.2f\"\n",
    "        # %.f表示浮点十进制,\"Expenses:%.2f\"中的%.2f表示浮点十进制保留2位小数\n",
    "        # 百分号%右侧是对象expenses[i]\n",
    "        # \"Expenses:%.2f\" % expenses[i]完整含义:\n",
    "        # 将expenses[i]嵌入到%.2f的位置,转换为浮点十进制并保留2位小数\n",
    "        print(CityCluster[i])  # 将每个簇的城市输出\n",
    "\n",
    "# 参考书目：\n",
    "# • 《Python学习手册》，作者Mark Lutz，译者李军，刘红伟等\n",
    "# • 《Python编程快速上手——让繁琐工作自动化》,作者Al Sweigart, 译者王海鹏\n",
    "# • 《利用Python进行数据分析》,作者Wes McKinney,译者唐学韬\n",
    "# • 注释中的一些描述，直接从书中摘取了原句"
   ]
  },
  {
   "cell_type": "code",
   "execution_count": 1,
   "metadata": {
    "collapsed": true
   },
   "outputs": [],
   "source": [
    "#   NMF-test\n",
    "from numpy.random import RandomState\n",
    "# 加载RandomState用于创建随机种子\n",
    "import matplotlib.pyplot as plt\n",
    "# 加载matplotlib用于数据的可视化\n",
    "from sklearn.datasets import fetch_olivetti_faces\n",
    "# 加载Olivetti人脸数据集导入函数\n",
    "from sklearn import decomposition\n",
    "\n",
    "# 加载PCA算法包\n",
    "\n",
    "n_row, n_col = 2, 3\n",
    "# 设置图像展示时的排列情况\n",
    "# 此处#n_row表示行,n_col表示列\n",
    "n_components = n_row * n_col\n",
    "# 设置提取的特征数目,此处为行列相乘\n",
    "image_shape = (64, 64)\n",
    "# 设置人脸数据图片的大小"
   ]
  },
  {
   "cell_type": "code",
   "execution_count": 2,
   "metadata": {},
   "outputs": [
    {
     "name": "stdout",
     "output_type": "stream",
     "text": [
      "downloading Olivetti faces from https://ndownloader.figshare.com/files/5976027 to C:\\Users\\Administrator\\scikit_learn_data\n"
     ]
    }
   ],
   "source": [
    "# Load faces data\n",
    "dataset = fetch_olivetti_faces(shuffle=True, random_state=RandomState(0))\n",
    "# shuffle : boolean, optional # 如果shuffle为True表示打乱数据避免同个人分到一组\n",
    "# If True the order of the dataset is shuffled to avoid having images of the same person grouped.\n",
    "# random_state : optional, integer or RandomState object 随机种子用于乱序\n",
    "# The seed or the random number generator used to shuffle the data.\n",
    "\n",
    "faces = dataset.data  # faces是获取到的数据"
   ]
  },
  {
   "cell_type": "code",
   "execution_count": 3,
   "metadata": {
    "collapsed": true
   },
   "outputs": [],
   "source": [
    "def plot_gallery(title, images, n_col=n_col, n_row=n_row):\n",
    "    plt.figure(figsize=(2. * n_col, 2.26 * n_row))  # 创建图片,指定图片大小(英寸)\n",
    "    plt.suptitle(title, size=16)  # 设置标题及字号大小\n",
    "\n",
    "    for i, comp in enumerate(images):\n",
    "        # enumerate python的枚举类型\n",
    "        # 用于既要遍历索引又要遍历元素的情况\n",
    "        # 此处i是索引,comp是元素\n",
    "        plt.subplot(n_row, n_col, i + 1)  # 选择画制的子图\n",
    "        vmax = max(comp.max(), -comp.min())\n",
    "\n",
    "        plt.imshow(comp.reshape(image_shape), cmap=plt.cm.gray,\n",
    "                   interpolation='nearest', vmin=-vmax, vmax=vmax)\n",
    "        # 对数值归一化,并以灰度图像式显示\n",
    "        plt.xticks(())  # 去除子图坐标轴标签\n",
    "        plt.yticks(())\n",
    "    plt.subplots_adjust(0.01, 0.05, 0.99, 0.94, 0.04, 0.)  # 对字图位置及间隔调整\n",
    "\n",
    "\n",
    "plot_gallery(\"First centered Olivetti faces\", faces[:n_components])"
   ]
  },
  {
   "cell_type": "code",
   "execution_count": 4,
   "metadata": {
    "collapsed": true
   },
   "outputs": [],
   "source": [
    "estimators = [\n",
    "    ('Eigenfaces - PCA using randomized SVD',  # 方法名称\n",
    "     decomposition.PCA(n_components=6, whiten=True)),  # 使用PCA方法\n",
    "\n",
    "    ('Non-negative components - NMF',  # 方法名称\n",
    "     decomposition.NMF(n_components=6, init='nndsvda', tol=5e-3))  # 使用NMF方法\n",
    "]"
   ]
  },
  {
   "cell_type": "code",
   "execution_count": 5,
   "metadata": {},
   "outputs": [
    {
     "name": "stdout",
     "output_type": "stream",
     "text": [
      "Extracting the top 6 Eigenfaces - PCA using randomized SVD...\n",
      "(400, 4096)\n",
      "Extracting the top 6 Non-negative components - NMF...\n",
      "(400, 4096)\n"
     ]
    },
    {
     "data": {
      "image/png": "[encoded data removed]",
      "text/plain": [
       "<matplotlib.figure.Figure at 0x16e424b46d8>"
      ]
     },
     "metadata": {},
     "output_type": "display_data"
    },
    {
     "data": {
      "image/png": "[encoded data removed]",
      "text/plain": [
       "<matplotlib.figure.Figure at 0x16e40585c18>"
      ]
     },
     "metadata": {},
     "output_type": "display_data"
    },
    {
     "data": {
      "image/png": "[encoded data removed]",
      "text/plain": [
       "<matplotlib.figure.Figure at 0x16e424b42e8>"
      ]
     },
     "metadata": {},
     "output_type": "display_data"
    }
   ],
   "source": [
    "for name, estimator in estimators:  # 分别调取PCA和NMF\n",
    "    print(\"Extracting the top %d %s...\" % (n_components, name))\n",
    "    print(faces.shape)\n",
    "    estimator.fit(faces)  # 调用PCA或NMF提取特征??\n",
    "    components_ = estimator.components_  # 获取提取的特征??\n",
    "    plot_gallery(name, components_[:n_components])  # 按照固定格式进行排列 ??\n",
    "\n",
    "plt.show()  # 调用show()函数展示"
   ]
  },
  {
   "cell_type": "code",
   "execution_count": 6,
   "metadata": {
    "collapsed": true
   },
   "outputs": [],
   "source": [
    "#  PCA-iris\n",
    "# 目标：已知鸢尾花数据是4维的\n",
    "# 共三类样本\n",
    "# 实现对鸢尾花 数据进行降维\n",
    "# 实现在二平面上的可视化。\n",
    "\n",
    "import matplotlib.pyplot as plt  # 引入matplotlib.pyplot用于数据可视化\n",
    "from sklearn.decomposition import PCA  # 引入PCA算法包\n",
    "from sklearn.datasets import load_iris  # 引入鸢尾花数据集导入函数\n"
   ]
  },
  {
   "cell_type": "code",
   "execution_count": 7,
   "metadata": {
    "collapsed": true
   },
   "outputs": [],
   "source": [
    "data = load_iris()  # 以字典形式加载鸢尾花数据集\n",
    "# load_iris()返回鸢尾花数据集,返回的数据类型为sklearn.utils.Bunch\n",
    "# sklearn.utils.Bunch是字典型的数据类型,可以通过key获取相应的值\n",
    "\n",
    "y = data.target\n",
    "# load_iris().target是鸢尾花数据集的标签,数据类型是ndarray\n",
    "# y = data.target得到一个鸢尾花数据标签的ndarray数组\n",
    "\n",
    "X = data.data\n",
    "# load_iris().data是鸢尾花数据集中的属性数据,数据类型是ndarray\n",
    "# X = data.data得到一个鸢尾花数据集属性的ndarray数组"
   ]
  },
  {
   "cell_type": "code",
   "execution_count": 8,
   "metadata": {
    "collapsed": true
   },
   "outputs": [],
   "source": [
    "pca = PCA(n_components=2)  # 加载PCA算法,设置降维后主成分数目为2\n",
    "# sklearn.decomposition.PCA函数"
   ]
  },
  {
   "cell_type": "code",
   "execution_count": 9,
   "metadata": {
    "collapsed": true
   },
   "outputs": [],
   "source": [
    "reduced_X = pca.fit_transform(X)  # 对原始数据进行降维,保存在reduce_x中\n",
    "# reduced_X是得到一个n行两列的多维数组,数据类型ndarray,第一列表示横坐标,第二列表示纵坐标"
   ]
  },
  {
   "cell_type": "code",
   "execution_count": 10,
   "metadata": {
    "collapsed": true
   },
   "outputs": [],
   "source": [
    "red_x, red_y = [], []  # 第一类数据点\n",
    "blue_x, blue_y = [], []  # 第二类数据点\n",
    "green_x, green_y = [], []  # 第三类数据点"
   ]
  },
  {
   "cell_type": "code",
   "execution_count": 11,
   "metadata": {
    "collapsed": true
   },
   "outputs": [],
   "source": [
    "for i in range(len(reduced_X)):\n",
    "    # 注意y是原始数据集data中的标签\n",
    "    # y[i] == 0 表示当前标签属于第一类样本\n",
    "    # y[i]=1和y[i]=2以此类推\n",
    "    if y[i] == 0:\n",
    "        red_x.append(reduced_X[i][0])\n",
    "        # 上面讲过reduced_X是一个n行两列的多维数组\n",
    "        # reduced_X[i]获取列表的第i个元素\n",
    "        # reduced_X[i]是一个包含新数据点横纵坐标两个元素的列表,类型也是ndarray\n",
    "        # reduced_X[i][0]获取了reduced_X[i]中下标为0的第一个元素,即坐标轴的横坐标,存入red_x\n",
    "        red_y.append(reduced_X[i][1])\n",
    "        # reduced_X[i][1]获取了reduced_X[i]中下标为1的第二个元素,即坐标轴的纵坐标,存入red_y\n",
    "    elif y[i] == 1:\n",
    "        blue_x.append(reduced_X[i][0])\n",
    "        blue_y.append(reduced_X[i][1])\n",
    "        # 原理同y[i] == 0\n",
    "    else:\n",
    "        green_x.append(reduced_X[i][0])\n",
    "        green_y.append(reduced_X[i][1])\n",
    "        # 原理同y[i] == 0"
   ]
  },
  {
   "cell_type": "code",
   "execution_count": 12,
   "metadata": {},
   "outputs": [
    {
     "data": {
      "image/png": "[encoded data removed]",
      "text/plain": [
       "<matplotlib.figure.Figure at 0x16e452fa390>"
      ]
     },
     "metadata": {},
     "output_type": "display_data"
    }
   ],
   "source": [
    "plt.scatter(red_x, red_y, c='r', marker='x')  # 第一类数据点\n",
    "# matplotlib.pyplot.scatter(x, y, s=None, c=None, marker=None,\n",
    "# cmap=None, norm=None, vmin=None, vmax=None, alpha=None, linewidths=None,\n",
    "# verts=None, edgecolors=None, hold=None, data=None, **kwargs)\n",
    "# x,y是长度相等的数组,即输入数据\n",
    "# c定义颜色,c='r',c='b',c='g'分别代表red,blue,green\n",
    "# marker定义图上散点的标记样式,可用string或者数组类型,默认为None\n",
    "# marker='x'表示用叉标记\n",
    "plt.scatter(blue_x, blue_y, c='b', marker='D')  # 第二类数据点\n",
    "# marker='D'表示用方块标记\n",
    "plt.scatter(green_x, green_y, c='g', marker='.')  # 第三类数据点\n",
    "# marker='.'表示用点标记\n",
    "plt.show()  # 可视化,显示散点图"
   ]
  },
  {
   "cell_type": "code",
   "execution_count": 36,
   "metadata": {
    "collapsed": true
   },
   "outputs": [],
   "source": [
    "#  dbscan-online\n",
    "import numpy as np\n",
    "import sklearn.cluster as skc\n",
    "from sklearn import metrics\n",
    "import matplotlib.pyplot as plt"
   ]
  },
  {
   "cell_type": "code",
   "execution_count": 37,
   "metadata": {
    "collapsed": true
   },
   "outputs": [],
   "source": [
    "mac2id = dict()  # 创建一个字典变量\n",
    "onlinetimes = []  # 创建一个列表\n",
    "f = open('TestData.txt', encoding='utf-8')  # 使用读取数据\n",
    "# open()函数打开一个文件\n",
    "# • 第一个参数是文件的路径,格式是字符串\n",
    "# • 路径可以是相对路径,也可以是绝对路径\n",
    "# • 在windows下用\\\\分割路径,在OSX下用/分割\n",
    "# • encoding在原函数的参数列表中不是第二个参数，所以传入参数时注明了参数名称encoding=\n",
    "# • encoding='utf-8'表示以utf-8字符集读取文件\n",
    "# open()函数返回的结果的类型是_io.TextIOWrapper"
   ]
  },
  {
   "cell_type": "code",
   "execution_count": 38,
   "metadata": {
    "collapsed": true
   },
   "outputs": [],
   "source": [
    "for line in f:  # 解析返回结果f,读取每行数据line,line的类型是str字符串\n",
    "    mac = line.split(',')[2]  # 获取mac地址\n",
    "    # 使用split方法,按指定的字符对字符串line进行切片,返回一个字符串列表\n",
    "    # 将该列表按下标排列,举例如下\n",
    "    # [0]2c929293466b97a6014754607e457d68,\n",
    "    # [1]U201215025,\n",
    "    # [2]A417314EEA7B,\n",
    "    # [3]10.12.49.26,\n",
    "    # [4]2014-07-20 22:44:18.540000000,\n",
    "    # [5]2014-07-20 23:10:16.540000000,\n",
    "    # [6]1558,\n",
    "    # [7]15,\n",
    "    # [8]本科生动态IP模版,\n",
    "    # [9]100元每半年,\n",
    "    # [10]internet\n",
    "    # 其中mac地址为该字符串列表的第3个元素,用下标2获取,举例如A417314EEA7B\n"
   ]
  },
  {
   "cell_type": "code",
   "execution_count": 39,
   "metadata": {
    "collapsed": true
   },
   "outputs": [],
   "source": [
    "    onlinetime = int(line.split(',')[6])  # 上网时长onlinetime是该列表的第5个元素,用下标6获取,加int()转换为整数\n",
    "\n",
    "    starttime = int(line.split(',')[4].split(' ')[1].split(':')[0])  # 开始上网时间的整点数\n",
    "    # starttime的获取经过了3次切片\n",
    "    # • 第一次切片：line.split(',')[4]\n",
    "    # 对整行按逗号切片后,得到第一个列表,上网时间是该列表的第5个元素,用下标[4]获取\n",
    "    # 获取到的上网时间是一个字符串,格式如 2014-07-20 22:44:18.540000000\n",
    "    # • 第二次切片：line.split(',')[4].split(' ')[1]\n",
    "    # 用' '空格对上网时间字符串进行切片，再次得到一个字符串列表\n",
    "    # 这个新列表的第一个元素是开始上网时间的年月日(例如2014-07-20)\n",
    "    # 新列表的第二个元素是开始上网时间的时分秒(例如22:44:18.540000000)\n",
    "    # 用下标[1]获取第二个元素\n",
    "    # • 第三次切片：line.split(',')[4].split(' ')[1].split(':')[0]\n",
    "    # 对上网时间的时分秒按冒号切片,获得一个包含时、分、秒三个字符串元素的列表\n",
    "    # 用下标[0]获取小时的字符串\n",
    "    # 最终结果用int()转换为整数\n"
   ]
  },
  {
   "cell_type": "code",
   "execution_count": 40,
   "metadata": {
    "collapsed": true
   },
   "outputs": [],
   "source": [
    "    if mac not in mac2id:\n",
    "            mac2id[mac] = len(onlinetimes)\n",
    "            # 字典变量mac2id的key为mac地址,value为列表onlinetimes的长度\n",
    "            # 相当于用mac2id[mac]记录onlinetimes的最大索引\n",
    "            onlinetimes.append((starttime, onlinetime))\n",
    "            # (starttime, onlinetime)是一个元组类型的对象，存储最新获取的starttime和onlinetime两个元素\n",
    "            # 向列表onlinetimes添加当前元组对象\n",
    "    else:\n",
    "        # onlinetimes[mac2id[mac]] = [(starttime, onlinetime)] # 课件中的原始代码\n",
    "        onlinetimes[mac2id[mac]] = (starttime, onlinetime)  # 修正后的代码\n",
    "        # (starttime, onlinetime)同上,仍然生成一个元组，存储最新获取的starttime和onlinetime两个元素\n",
    "        # 上面讲到,mac2id[mac]实际是列表onlinetimes的一个索引值\n",
    "        # onlinetimes[mac2id[mac]]获取onlinetimes中索引值为[mac2id[mac]]的一个元素\n",
    "        # 用最新的元组(starttime, onlinetime)替换原有元素\n",
    "        # 原始代码勘误:\n",
    "        # if中用append添加了一个元组,else中用等号赋值,等号右边应该也是同样格式的元组\n",
    "        # 所以去除原始代码中的中括号才是正确代码\n",
    "        # 这组if else语句的作用是:\n",
    "        # 通过mac2id[mac]中mac地址的唯一性，将onlinetimes索引赋值给mac2id[mac]"
   ]
  },
  {
   "cell_type": "code",
   "execution_count": 41,
   "metadata": {
    "collapsed": true
   },
   "outputs": [],
   "source": [
    "real_X = np.array(onlinetimes).reshape((-1, 2))\n",
    "# numpy.array() 是numpy的一个函数\n",
    "# numpy.array() 接受一切序列型的对象: 列表,元组,数组等\n",
    "# numpy.array() 最终生成一个numpy数组(类型是ndarray)\n",
    "# np.array(onlinetimes)通过传入列表onlinetimes, 生成一个ndarray多维数组\n",
    "# reshape((-1, 2)) 又对np.array(onlinetimes)生成的这个多维数组进行了reshape操作\n",
    "# reshape() 函数不改变原数组的元素，只返回一个shape形状的数组\n",
    "# reshape() 传入的shape参数类型是元组，元组中的每个数字代表一个维度的大小\n",
    "# 其中的任一维度都可以是数字-1，表示该维度的大小由数据本身推断而来\n",
    "# np.array(onlinetimes).reshape((-1, 2)),传入的参数是元组(-1, 2)\n",
    "# 表示将np.array(onlinetimes)获取的数组重塑为n行2列的多维数组"
   ]
  },
  {
   "cell_type": "code",
   "execution_count": 42,
   "metadata": {
    "collapsed": true
   },
   "outputs": [],
   "source": [
    "X = real_X[:, 0:1]\n",
    "# 对多维数组real_X切片,返回一个切片后的多维数组X\n",
    "# 下标从列表中获得1个值, 切片从列表中取得多个值\n",
    "# 切片有两个用冒号:分隔的整数,例如sample_list=[1,2,3,4,5], sample_list[1:4]\n",
    "# 在切片中,第一个整数是切片开始处的下标\n",
    "# 第二个整数是切片结束处的下标,但是不包括这个下标获取的值\n",
    "# 例如sample_list=[1,2,3,4,5]中, sample_list[1:4]获取了列表中下标为[1],[2],[3]的值\n",
    "# 下标包括了冒号左边的整数1,但是不包括冒号右边的整数4\n",
    "# sample_list[1:4]= [2, 3, 4]\n",
    "# 切片还可以省略冒号左右两个数字中的任一个,或者两个数字都省略\n",
    "# 省略冒号左边的数字表示下标取[0],即分片始于列表的开始位置\n",
    "# 省略冒号右边的数字表示下标取列表的长度,即分片直至列表结尾\n",
    "# 例如sample_list=[1,2,3,4,5]中, sample_list[:] = [1,2,3,4,5]\n",
    "# sample_list[:]相当于sample_list[0:5]\n",
    "# 为什么省略右边的数字可以取到最后一个元素？\n",
    "# 上面说过，省略右边数字相当于下标取列表的长度,sample_list=[1,2,3,4,5]中列表长度为5，所以取到下标[5]\n",
    "# 而下标是从[0]开始的，所以下标[4]已经取到了最后一个元素\n",
    "# 切片的规则是不包括以冒号右边整数为下标获取的值\n",
    "# 所以sample_list[:]和sample_list[0:5]都能获取整个sample_list列表"
   ]
  },
  {
   "cell_type": "code",
   "execution_count": 43,
   "metadata": {
    "collapsed": true
   },
   "outputs": [],
   "source": [
    "# 本段代码中，real_X[:, 0:1]实际上对real_X进行了两次切片操作\n",
    "# [:, 0:1]中逗号前的切片:表示对real_X列表按照[:]截取\n",
    "# real_X中的每个元素本身又是一个列表\n",
    "# [:, 0:1]中逗号后的切片0:1表示对real_X中的每个元素按照[0:1]截取\n",
    "# X = real_X[:, 0:1] 获取的X是n行1列的多维数组,X中的每个元素都是数组"
   ]
  },
  {
   "cell_type": "code",
   "execution_count": 44,
   "metadata": {
    "collapsed": true
   },
   "outputs": [],
   "source": [
    "db = skc.DBSCAN(eps=0.01, min_samples=20).fit(X)\n",
    "# skc.DBSCAN(eps=0.01, min_samples=20) 本行代码经过了如下计算流程：\n",
    "# • 以每个点为中心，计算在这个中心的半径eps=0.01范围内，共有多少个点(包括中心点自己),即邻域内总共有多少个点\n",
    "# • 如果邻域内点的个数超过min_samples=20，这个点是核心点\n",
    "# • 查看剩余点是否在核心点的邻域内，若在则为边界点，否则为噪声点\n",
    "# skc.DBSCAN(eps=0.01, min_samples=20)返回的对象类型是 sklearn.cluster.dbscan_.DBSCAN\n",
    "# fix()方法:\n",
    "# skc.DBSCAN(eps=0.01, min_samples=20)定义了DBSCAN的基本参数后，使用fix()方法,传入数据集,得到最终结果\n",
    "# db = skc.DBSCAN(eps=0.01, min_samples=20).fix(X) 返回的对象类型也是 sklearn.cluster.dbscan_.DBSCAN"
   ]
  },
  {
   "cell_type": "code",
   "execution_count": 45,
   "metadata": {
    "collapsed": true
   },
   "outputs": [],
   "source": [
    "# DBSCAN(Density-Based Spatial Clustering of Application with Noise)\n",
    "# DBSCAN算法是一种基于密度的聚类：\n",
    "# • 聚类的时候不需要预先指定簇个数\n",
    "# • 最终的簇个数不定\n",
    "\n",
    "# DBSCAN算法将数据点分为三类：\n",
    "# • 核心点：在半径eps内含有超过min_samples数目的点\n",
    "# • 边界点：在半径eps内点的数量小于min_samples，但是落在核心点的邻域内\n",
    "# • 噪音点：既不是核心也不是边界点\n",
    "\n",
    "# sklearn.cluster.DBSCAN函数的完整参数如下\n",
    "# class sklearn.cluster.DBSCAN (eps=0.5, min_samples=5, metric='euclidean',\n",
    "# metric_params=None, algorithm='auto', leaf_size=30, p=None, n_jobs=1)\n",
    "# 这里只介绍前3个常用参数,其他参数可以查看sklearn.cluster.DBSCAN的官方文档\n",
    "# • eps：两个样本被看作近邻的最大距离，超出这个距离不算近邻\n",
    "# • min_samples：近邻的最少样本数，达到这个数量某个点才能被认为是核心点(包括这个点自身)\n",
    "# • metric='euclidean': 距离计算方式，DBSCAN使用默认的欧式距离可以满足大部分需求\n",
    "\n",
    "# eps\n",
    "# • eps默认值是0.5\n",
    "# • eps过大，则更多的点会落在核心点的邻域内, 此时类别数可能会减少，本来不应该是一类的样本也会被划为一类\n",
    "# • 反之eps过小则类别数可能会增大，本来是一类的样本却被划分开\n",
    "\n",
    "# min_samples\n",
    "# • min_samples默认值是5\n",
    "# • 在eps一定的情况下\n",
    "# • min_samples过大，则核心点会过少, 此时簇内部分本来是一类的样本可能会被标为噪音点，类别数也会变多\n",
    "# • 反之min_samples过小，则会产生大量的核心点，可能会导致类别数过少\n",
    "\n",
    "# eps和min_samples常在一起调参，两个值的组合最终影响了聚类效果\n",
    "\n",
    "# metric常用的度量参数有:\n",
    "# a) 欧式距离 'euclidean'\n",
    "# b) 曼哈顿距离 'manhattan'\n",
    "# c) 切比雪夫距离'chebyshev'\n",
    "# d) 闵可夫斯基距离'minkowski', 欧氏距离和曼哈顿距离都源自闵可夫斯基距离\n",
    "# e) 带权重闵可夫斯基距离'wminkowski'\n",
    "# f) 标准化欧式距离'seuclidean', 即对于各特征维度做了归一化以后的欧式距离, 此时各样本特征维度的均值为0，方差为1.\n",
    "# g) 马氏距离'mahalanobis'"
   ]
  },
  {
   "cell_type": "code",
   "execution_count": 46,
   "metadata": {},
   "outputs": [
    {
     "name": "stdout",
     "output_type": "stream",
     "text": [
      "Labels:\n",
      "[-1]\n"
     ]
    }
   ],
   "source": [
    "labels = db.labels_\n",
    "# labels_是sklearn.cluster.dbscan_.DBSCAN的属性\n",
    "# 通过sklearn.cluster.dbscan_.DBSCAN的对象db获取.labels_\n",
    "# labels = db.labels_就是skc.DBSCAN(eps=0.01, min_samples=20).fit(X)计算生成的簇的标签,噪声点的标签是-1\n",
    "# labels的类型是numpy.ndarray\n",
    "\n",
    "print('Labels:')\n",
    "print(labels)  # 将labels这个ndarray打印出来\n"
   ]
  },
  {
   "cell_type": "code",
   "execution_count": 47,
   "metadata": {
    "collapsed": true
   },
   "outputs": [],
   "source": [
    "raito = len(labels[labels[:] == -1]) / len(labels)  # 获取噪声数据占所有数据的比例\n",
    "# labels[:]用切片方式返回一个包含labels所有元素的新ndarray\n",
    "# labels[:] == -1 对labels[:]这个ndarray中的所有元素逐个判断是否等于-1, 每次判断都返回一个bool类型的值\n",
    "# labels[:] == -1 返回一个由bool值组成的ndarray, 这个ndarray的结构和labels[:]原数组完全一致\n",
    "# labels[labels[:] == -1] 从labels中获取所有bool值为True对应的数值(就是-1), 最终结果是一个ndarray\n",
    "# 所以labels[labels[:] == -1] 最终返回了一个由数值-1组成的ndarray\n",
    "# len(labels[labels[:] == -1]) 获得这个-1组成的ndarray的长度,也就是噪声数据的数目\n",
    "# len(labels)是labels总长度,即labels总数\n",
    "# raito = len(labels[labels[:] == -1]) / len(labels) 得到噪声点与总数之比"
   ]
  },
  {
   "cell_type": "code",
   "execution_count": 48,
   "metadata": {},
   "outputs": [
    {
     "name": "stdout",
     "output_type": "stream",
     "text": [
      "Noise raito: 100.00%\n"
     ]
    }
   ],
   "source": [
    "print('Noise raito:', format(raito, '.2%'))"
   ]
  },
  {
   "cell_type": "code",
   "execution_count": 49,
   "metadata": {
    "collapsed": true
   },
   "outputs": [],
   "source": [
    "n_clusters_ = len(set(labels)) - (1 if -1 in labels else 0)\n",
    "# 通过set(labels)对簇标签labels去重\n",
    "# len(set(labels))得到去重后簇标签的总数,即簇的总数(包括噪声点在内)\n",
    "# 1 if -1 in labels else 0 遍历labels，判断labels中是否有-1标签，即噪声点\n",
    "# 如果labels存在噪声点,经过set(labels)去重后,在len(set(labels))就只包含了1个-1\n",
    "# 用len(set(labels))减1,排除噪声点,得到没有噪声点的簇总数\n",
    "# 如果不存在噪声点,(1 if -1 in labels else 0得到数值0)\n",
    "# len(set(labels)) - 0 保持不变"
   ]
  },
  {
   "cell_type": "code",
   "execution_count": 50,
   "metadata": {},
   "outputs": [
    {
     "name": "stdout",
     "output_type": "stream",
     "text": [
      "Estimated number of clusters: 0\n"
     ]
    }
   ],
   "source": [
    "print('Estimated number of clusters: %d' % n_clusters_)\n",
    "# 打印簇总数n_clusters_\n"
   ]
  },
  {
   "cell_type": "code",
   "execution_count": 30,
   "metadata": {},
   "outputs": [
    {
     "ename": "ValueError",
     "evalue": "Number of labels is 1. Valid values are 2 to n_samples - 1 (inclusive)",
     "output_type": "error",
     "traceback": [
      "\u001b[1;31m---------------------------------------------------------------------------\u001b[0m",
      "\u001b[1;31mValueError\u001b[0m                                Traceback (most recent call last)",
      "\u001b[1;32m<ipython-input-30-a67ec860a20e>\u001b[0m in \u001b[0;36m<module>\u001b[1;34m()\u001b[0m\n\u001b[1;32m----> 1\u001b[1;33m \u001b[0mprint\u001b[0m\u001b[1;33m(\u001b[0m\u001b[1;34m\"Silhouette Coefficient: %0.3f\"\u001b[0m \u001b[1;33m%\u001b[0m \u001b[0mmetrics\u001b[0m\u001b[1;33m.\u001b[0m\u001b[0msilhouette_score\u001b[0m\u001b[1;33m(\u001b[0m\u001b[0mX\u001b[0m\u001b[1;33m,\u001b[0m \u001b[0mlabels\u001b[0m\u001b[1;33m)\u001b[0m\u001b[1;33m)\u001b[0m\u001b[1;33m\u001b[0m\u001b[0m\n\u001b[0m\u001b[0;32m      2\u001b[0m \u001b[1;31m# sklearn.metrics.silhouette_score 用于计算所有样本轮廓系数的均值\u001b[0m\u001b[1;33m\u001b[0m\u001b[1;33m\u001b[0m\u001b[0m\n\u001b[0;32m      3\u001b[0m \u001b[1;31m# metrics.silhouette_score(X, labels)\u001b[0m\u001b[1;33m\u001b[0m\u001b[1;33m\u001b[0m\u001b[0m\n\u001b[0;32m      4\u001b[0m \u001b[1;31m# 参数X是数据集\u001b[0m\u001b[1;33m\u001b[0m\u001b[1;33m\u001b[0m\u001b[0m\n\u001b[0;32m      5\u001b[0m \u001b[1;31m# 参数labels是数据集的所有簇标签\u001b[0m\u001b[1;33m\u001b[0m\u001b[1;33m\u001b[0m\u001b[0m\n",
      "\u001b[1;32m~\\Anaconda3\\lib\\site-packages\\sklearn\\metrics\\cluster\\unsupervised.py\u001b[0m in \u001b[0;36msilhouette_score\u001b[1;34m(X, labels, metric, sample_size, random_state, **kwds)\u001b[0m\n\u001b[0;32m     99\u001b[0m         \u001b[1;32melse\u001b[0m\u001b[1;33m:\u001b[0m\u001b[1;33m\u001b[0m\u001b[0m\n\u001b[0;32m    100\u001b[0m             \u001b[0mX\u001b[0m\u001b[1;33m,\u001b[0m \u001b[0mlabels\u001b[0m \u001b[1;33m=\u001b[0m \u001b[0mX\u001b[0m\u001b[1;33m[\u001b[0m\u001b[0mindices\u001b[0m\u001b[1;33m]\u001b[0m\u001b[1;33m,\u001b[0m \u001b[0mlabels\u001b[0m\u001b[1;33m[\u001b[0m\u001b[0mindices\u001b[0m\u001b[1;33m]\u001b[0m\u001b[1;33m\u001b[0m\u001b[0m\n\u001b[1;32m--> 101\u001b[1;33m     \u001b[1;32mreturn\u001b[0m \u001b[0mnp\u001b[0m\u001b[1;33m.\u001b[0m\u001b[0mmean\u001b[0m\u001b[1;33m(\u001b[0m\u001b[0msilhouette_samples\u001b[0m\u001b[1;33m(\u001b[0m\u001b[0mX\u001b[0m\u001b[1;33m,\u001b[0m \u001b[0mlabels\u001b[0m\u001b[1;33m,\u001b[0m \u001b[0mmetric\u001b[0m\u001b[1;33m=\u001b[0m\u001b[0mmetric\u001b[0m\u001b[1;33m,\u001b[0m \u001b[1;33m**\u001b[0m\u001b[0mkwds\u001b[0m\u001b[1;33m)\u001b[0m\u001b[1;33m)\u001b[0m\u001b[1;33m\u001b[0m\u001b[0m\n\u001b[0m\u001b[0;32m    102\u001b[0m \u001b[1;33m\u001b[0m\u001b[0m\n\u001b[0;32m    103\u001b[0m \u001b[1;33m\u001b[0m\u001b[0m\n",
      "\u001b[1;32m~\\Anaconda3\\lib\\site-packages\\sklearn\\metrics\\cluster\\unsupervised.py\u001b[0m in \u001b[0;36msilhouette_samples\u001b[1;34m(X, labels, metric, **kwds)\u001b[0m\n\u001b[0;32m    165\u001b[0m     \u001b[0mle\u001b[0m \u001b[1;33m=\u001b[0m \u001b[0mLabelEncoder\u001b[0m\u001b[1;33m(\u001b[0m\u001b[1;33m)\u001b[0m\u001b[1;33m\u001b[0m\u001b[0m\n\u001b[0;32m    166\u001b[0m     \u001b[0mlabels\u001b[0m \u001b[1;33m=\u001b[0m \u001b[0mle\u001b[0m\u001b[1;33m.\u001b[0m\u001b[0mfit_transform\u001b[0m\u001b[1;33m(\u001b[0m\u001b[0mlabels\u001b[0m\u001b[1;33m)\u001b[0m\u001b[1;33m\u001b[0m\u001b[0m\n\u001b[1;32m--> 167\u001b[1;33m     \u001b[0mcheck_number_of_labels\u001b[0m\u001b[1;33m(\u001b[0m\u001b[0mlen\u001b[0m\u001b[1;33m(\u001b[0m\u001b[0mle\u001b[0m\u001b[1;33m.\u001b[0m\u001b[0mclasses_\u001b[0m\u001b[1;33m)\u001b[0m\u001b[1;33m,\u001b[0m \u001b[0mX\u001b[0m\u001b[1;33m.\u001b[0m\u001b[0mshape\u001b[0m\u001b[1;33m[\u001b[0m\u001b[1;36m0\u001b[0m\u001b[1;33m]\u001b[0m\u001b[1;33m)\u001b[0m\u001b[1;33m\u001b[0m\u001b[0m\n\u001b[0m\u001b[0;32m    168\u001b[0m \u001b[1;33m\u001b[0m\u001b[0m\n\u001b[0;32m    169\u001b[0m     \u001b[0mdistances\u001b[0m \u001b[1;33m=\u001b[0m \u001b[0mpairwise_distances\u001b[0m\u001b[1;33m(\u001b[0m\u001b[0mX\u001b[0m\u001b[1;33m,\u001b[0m \u001b[0mmetric\u001b[0m\u001b[1;33m=\u001b[0m\u001b[0mmetric\u001b[0m\u001b[1;33m,\u001b[0m \u001b[1;33m**\u001b[0m\u001b[0mkwds\u001b[0m\u001b[1;33m)\u001b[0m\u001b[1;33m\u001b[0m\u001b[0m\n",
      "\u001b[1;32m~\\Anaconda3\\lib\\site-packages\\sklearn\\metrics\\cluster\\unsupervised.py\u001b[0m in \u001b[0;36mcheck_number_of_labels\u001b[1;34m(n_labels, n_samples)\u001b[0m\n\u001b[0;32m     17\u001b[0m     \u001b[1;32mif\u001b[0m \u001b[1;32mnot\u001b[0m \u001b[1;36m1\u001b[0m \u001b[1;33m<\u001b[0m \u001b[0mn_labels\u001b[0m \u001b[1;33m<\u001b[0m \u001b[0mn_samples\u001b[0m\u001b[1;33m:\u001b[0m\u001b[1;33m\u001b[0m\u001b[0m\n\u001b[0;32m     18\u001b[0m         raise ValueError(\"Number of labels is %d. Valid values are 2 \"\n\u001b[1;32m---> 19\u001b[1;33m                          \"to n_samples - 1 (inclusive)\" % n_labels)\n\u001b[0m\u001b[0;32m     20\u001b[0m \u001b[1;33m\u001b[0m\u001b[0m\n\u001b[0;32m     21\u001b[0m \u001b[1;33m\u001b[0m\u001b[0m\n",
      "\u001b[1;31mValueError\u001b[0m: Number of labels is 1. Valid values are 2 to n_samples - 1 (inclusive)"
     ]
    }
   ],
   "source": [
    "print(\"Silhouette Coefficient: %0.3f\" % metrics.silhouette_score(X, labels))\n",
    "# sklearn.metrics.silhouette_score 用于计算所有样本轮廓系数的均值\n",
    "# metrics.silhouette_score(X, labels)\n",
    "# 参数X是数据集\n",
    "# 参数labels是数据集的所有簇标签\n",
    "# metrics.silhouette_score的返回结果是轮廓系数的均值,数据类型是float\n",
    "# 这个轮廓系数均值用来评价聚类效果"
   ]
  },
  {
   "cell_type": "code",
   "execution_count": 51,
   "metadata": {
    "collapsed": true
   },
   "outputs": [],
   "source": [
    "for i in range(n_clusters_):\n",
    "    print('Cluster ', i, ':')\n",
    "    print(list(X[labels == i].flatten()))"
   ]
  },
  {
   "cell_type": "code",
   "execution_count": 52,
   "metadata": {
    "collapsed": true
   },
   "outputs": [],
   "source": [
    "# python3中的rang()是一个迭代器\n",
    "# rang()的参数必须是整数类型\n",
    "# rang()传入一个整数参数时,用来产生从零算起的一系列整数,但不包括这个整数\n",
    "# rang()传入两个整数参数时,第一个参数视为下边界,即不再从零开始,从第一个参数开始,到第二个参数截止\n",
    "# rang()传入三个整数参数时,第三个整数作为步进值,函数默认的步进值是1\n",
    "# range()常用在for循环中产生索引\n",
    "# range()也常和list()组合产生整数列表\n",
    "# range(n_clusters_)使用簇的总数为for循环生成了默认步长为1的一系列整数索引\n",
    "# for i in range(n_clusters_):\n",
    "#     print('Cluster ', i, ':')\n",
    "# for循环在python中是一个通用的序列迭代器,可以遍历任何有序的序列对象内的元素\n",
    "# for循环可拥有字符串、列表、元组、其他内置可迭代对象等\n",
    "# for i in range(n_clusters_) 本行代码就使用for循环遍历了内置的迭代器rang()函数\n",
    "# i是从range(n_clusters_)中依次取到的每一个整数\n",
    "# print('Cluster ', i, ':') 有多少个簇,就打印多少个i\n",
    "# labels == i 依次检查labels中的每个元素是否与i相等\n",
    "# labels == i 返回一个结构与labels相同的以bool值组成的新数组\n",
    "# X[labels == i] 依次检查X中的每个元素,将对应[labels == i]中True的元素取出\n",
    "# X[labels == i] 返回一个符合条件labels == i的新数组"
   ]
  },
  {
   "cell_type": "code",
   "execution_count": 34,
   "metadata": {},
   "outputs": [
    {
     "data": {
      "image/png": "[encoded data removed]",
      "text/plain": [
       "<matplotlib.figure.Figure at 0x16e454f4cc0>"
      ]
     },
     "metadata": {},
     "output_type": "display_data"
    }
   ],
   "source": [
    "plt.hist(X, 24)  # 绘制直方图\n",
    "\n",
    "# matplotlib.pyplot 是一个命令行式风格的函数库,能够实现MATLAB类似的绘图功能\n",
    "# matplotlib.pyplot.hist 用于绘制直方图\n",
    "# matplotlib.pyplot.hist 函数有一个很长的参数列表, 这里只讲解前两个参数\n",
    "# matplotlib.pyplot.hist(x, bins=None)\n",
    "# 第一个参数x是原始数据，类型是数组或者序列\n",
    "# 第二个参数bins表示直方图横直方条的个数\n",
    "# plt.hist(X, 24) 本行代码传入前面获得的多维数组X,按照24小时时段划分为24个直方条\n",
    "\n",
    "plt.show()  # 课件的源代码中没有这一行,加上这行代码在运行完成后显示matplotlib.pyplot画出的图形"
   ]
  },
  {
   "cell_type": "code",
   "execution_count": 53,
   "metadata": {
    "collapsed": true
   },
   "outputs": [],
   "source": [
    "# 参考书目和文章：\n",
    "# • 《Python编程快速上手——让繁琐工作自动化》,作者Al Sweigart, 译者王海鹏\n",
    "# • 《Python学习手册》,作者Mark Lutz, 译者李军、刘红伟等\n",
    "# • 《利用Python进行数据分析》,作者Wes McKinney,译者唐学韬\n",
    "# • 《用scikit-learn学习DBSCAN聚类》(https://www.cnblogs.com/pinard/p/6217852.html)\n",
    "# • 《DBSCAN - 基于密度的聚类算法》(http://blog.csdn.net/sandyzhs/article/details/46773731)\n",
    "# • sklearn.cluster.DBSCAN官方文档(http://scikit-learn.org/stable/modules/generated/sklearn.cluster.DBSCAN.html)\n",
    "# • 注释中的一些描述，直接从书中或文章中摘取了原句"
   ]
  },
  {
   "cell_type": "code",
   "execution_count": 2,
   "metadata": {},
   "outputs": [
    {
     "name": "stdout",
     "output_type": "stream",
     "text": [
      "Labels:\n",
      "[ 0 -1  0  1 -1  1  0  1  2 -1  1  0  1  1  3 -1 -1  3 -1  1  1 -1  1  3  4\n",
      " -1  1  1  2  0  2  2 -1  0  1  0  0  0  1  3 -1  0  1  1  0  0  2 -1  1  3\n",
      "  1 -1  3 -1  3  0  1  1  2  3  3 -1 -1 -1  0  1  2  1 -1  3  1  1  2  3  0\n",
      "  1 -1  2  0  0  3  2  0  1 -1  1  3 -1  4  2 -1 -1  0 -1  3 -1  0  2  1 -1\n",
      " -1  2  1  1  2  0  2  1  1  3  3  0  1  2  0  1  0 -1  1  1  3 -1  2  1  3\n",
      "  1  1  1  2 -1  5 -1  1  3 -1  0  1  0  0  1 -1 -1 -1  2  2  0  1  1  3  0\n",
      "  0  0  1  4  4 -1 -1 -1 -1  4 -1  4  4 -1  4 -1  1  2  2  3  0  1  0 -1  1\n",
      "  0  0  1 -1 -1  0  2  1  0  2 -1  1  1 -1 -1  0  1  1 -1  3  1  1 -1  1  1\n",
      "  0  0 -1  0 -1  0  0  2 -1  1 -1  1  0 -1  2  1  3  1  1 -1  1  0  0 -1  0\n",
      "  0  3  2  0  0  5 -1  3  2 -1  5  4  4  4 -1  5  5 -1  4  0  4  4  4  5  4\n",
      "  4  5  5  0  5  4 -1  4  5  5  5  1  5  5  0  5  4  4 -1  4  4  5  4  0  5\n",
      "  4 -1  0  5  5  5 -1  4  5  5  5  5  4  4]\n",
      "Noise raito: 22.15%\n",
      "Estimated number of clusters: 6\n",
      "Silhouette Coefficient: 0.710\n",
      "Cluster  0 :\n",
      "[22, 22, 22, 22, 22, 22, 22, 22, 22, 22, 22, 22, 22, 22, 22, 22, 22, 22, 22, 22, 22, 22, 22, 22, 22, 22, 22, 22, 22, 22, 22, 22, 22, 22, 22, 22, 22, 22, 22, 22, 22, 22, 22, 22, 22, 22, 22, 22, 22, 22, 22, 22, 22, 22, 22]\n",
      "Cluster  1 :\n",
      "[23, 23, 23, 23, 23, 23, 23, 23, 23, 23, 23, 23, 23, 23, 23, 23, 23, 23, 23, 23, 23, 23, 23, 23, 23, 23, 23, 23, 23, 23, 23, 23, 23, 23, 23, 23, 23, 23, 23, 23, 23, 23, 23, 23, 23, 23, 23, 23, 23, 23, 23, 23, 23, 23, 23, 23, 23, 23, 23, 23, 23, 23, 23, 23, 23]\n",
      "Cluster  2 :\n",
      "[20, 20, 20, 20, 20, 20, 20, 20, 20, 20, 20, 20, 20, 20, 20, 20, 20, 20, 20, 20, 20, 20, 20, 20, 20, 20, 20, 20]\n",
      "Cluster  3 :\n",
      "[21, 21, 21, 21, 21, 21, 21, 21, 21, 21, 21, 21, 21, 21, 21, 21, 21, 21, 21, 21, 21, 21, 21, 21, 21]\n",
      "Cluster  4 :\n",
      "[8, 8, 8, 8, 8, 8, 8, 8, 8, 8, 8, 8, 8, 8, 8, 8, 8, 8, 8, 8, 8, 8, 8, 8, 8, 8, 8, 8]\n",
      "Cluster  5 :\n",
      "[7, 7, 7, 7, 7, 7, 7, 7, 7, 7, 7, 7, 7, 7, 7, 7, 7, 7, 7, 7, 7, 7, 7, 7]\n"
     ]
    },
    {
     "data": {
      "image/png": "[encoded data removed]",
      "text/plain": [
       "<matplotlib.figure.Figure at 0x13bf3df26a0>"
      ]
     },
     "metadata": {},
     "output_type": "display_data"
    }
   ],
   "source": [
    "# 本文件对应原始课件\\biteduML\\raw_materials\\06.py\n",
    "\n",
    "import numpy as np\n",
    "import sklearn.cluster as skc\n",
    "from sklearn import metrics\n",
    "import matplotlib.pyplot as plt\n",
    "\n",
    "mac2id = dict()  # 创建一个字典变量\n",
    "onlinetimes = []  # 创建一个列表\n",
    "f = open('TestData.txt', encoding='utf-8')  # 使用读取数据\n",
    "# open()函数打开一个文件\n",
    "# • 第一个参数是文件的路径,格式是字符串\n",
    "# • 路径可以是相对路径,也可以是绝对路径\n",
    "# • 在windows下用\\\\分割路径,在OSX下用/分割\n",
    "# • encoding在原函数的参数列表中不是第二个参数，所以传入参数时注明了参数名称encoding=\n",
    "# • encoding='utf-8'表示以utf-8字符集读取文件\n",
    "# open()函数返回的结果的类型是_io.TextIOWrapper\n",
    "\n",
    "for line in f:  # 解析返回结果f,读取每行数据line,line的类型是str字符串\n",
    "    mac = line.split(',')[2]  # 获取mac地址\n",
    "    # 使用split方法,按指定的字符对字符串line进行切片,返回一个字符串列表\n",
    "    # 将该列表按下标排列,举例如下\n",
    "    # [0]2c929293466b97a6014754607e457d68,\n",
    "    # [1]U201215025,\n",
    "    # [2]A417314EEA7B,\n",
    "    # [3]10.12.49.26,\n",
    "    # [4]2014-07-20 22:44:18.540000000,\n",
    "    # [5]2014-07-20 23:10:16.540000000,\n",
    "    # [6]1558,\n",
    "    # [7]15,\n",
    "    # [8]本科生动态IP模版,\n",
    "    # [9]100元每半年,\n",
    "    # [10]internet\n",
    "    # 其中mac地址为该字符串列表的第3个元素,用下标2获取,举例如A417314EEA7B\n",
    "\n",
    "    onlinetime = int(line.split(',')[6])  # 上网时长onlinetime是该列表的第5个元素,用下标6获取,加int()转换为整数\n",
    "\n",
    "    starttime = int(line.split(',')[4].split(' ')[1].split(':')[0])  # 开始上网时间的整点数\n",
    "    # starttime的获取经过了3次切片\n",
    "    # • 第一次切片：line.split(',')[4]\n",
    "    # 对整行按逗号切片后,得到第一个列表,上网时间是该列表的第5个元素,用下标[4]获取\n",
    "    # 获取到的上网时间是一个字符串,格式如 2014-07-20 22:44:18.540000000\n",
    "    # • 第二次切片：line.split(',')[4].split(' ')[1]\n",
    "    # 用' '空格对上网时间字符串进行切片，再次得到一个字符串列表\n",
    "    # 这个新列表的第一个元素是开始上网时间的年月日(例如2014-07-20)\n",
    "    # 新列表的第二个元素是开始上网时间的时分秒(例如22:44:18.540000000)\n",
    "    # 用下标[1]获取第二个元素\n",
    "    # • 第三次切片：line.split(',')[4].split(' ')[1].split(':')[0]\n",
    "    # 对上网时间的时分秒按冒号切片,获得一个包含时、分、秒三个字符串元素的列表\n",
    "    # 用下标[0]获取小时的字符串\n",
    "    # 最终结果用int()转换为整数\n",
    "\n",
    "    if mac not in mac2id:\n",
    "        mac2id[mac] = len(onlinetimes)\n",
    "        # 字典变量mac2id的key为mac地址,value为列表onlinetimes的长度\n",
    "        # 相当于用mac2id[mac]记录onlinetimes的最大索引\n",
    "        onlinetimes.append((starttime, onlinetime))\n",
    "        # (starttime, onlinetime)是一个元组类型的对象，存储最新获取的starttime和onlinetime两个元素\n",
    "        # 向列表onlinetimes添加当前元组对象\n",
    "    else:\n",
    "        # onlinetimes[mac2id[mac]] = [(starttime, onlinetime)] # 课件中的原始代码\n",
    "        onlinetimes[mac2id[mac]] = (starttime, onlinetime)  # 修正后的代码\n",
    "        # (starttime, onlinetime)同上,仍然生成一个元组，存储最新获取的starttime和onlinetime两个元素\n",
    "        # 上面讲到,mac2id[mac]实际是列表onlinetimes的一个索引值\n",
    "        # onlinetimes[mac2id[mac]]获取onlinetimes中索引值为[mac2id[mac]]的一个元素\n",
    "        # 用最新的元组(starttime, onlinetime)替换原有元素\n",
    "        # 原始代码勘误:\n",
    "        # if中用append添加了一个元组,else中用等号赋值,等号右边应该也是同样格式的元组\n",
    "        # 所以去除原始代码中的中括号才是正确代码\n",
    "    # 这组if else语句的作用是:\n",
    "    # 通过mac2id[mac]中mac地址的唯一性，将onlinetimes索引赋值给mac2id[mac]\n",
    "\n",
    "real_X = np.array(onlinetimes).reshape((-1, 2))\n",
    "# numpy.array() 是numpy的一个函数\n",
    "# numpy.array() 接受一切序列型的对象: 列表,元组,数组等\n",
    "# numpy.array() 最终生成一个numpy数组(类型是ndarray)\n",
    "# np.array(onlinetimes)通过传入列表onlinetimes, 生成一个ndarray多维数组\n",
    "# reshape((-1, 2)) 又对np.array(onlinetimes)生成的这个多维数组进行了reshape操作\n",
    "# reshape() 函数不改变原数组的元素，只返回一个shape形状的数组\n",
    "# reshape() 传入的shape参数类型是元组，元组中的每个数字代表一个维度的大小\n",
    "# 其中的任一维度都可以是数字-1，表示该维度的大小由数据本身推断而来\n",
    "# np.array(onlinetimes).reshape((-1, 2)),传入的参数是元组(-1, 2)\n",
    "# 表示将np.array(onlinetimes)获取的数组重塑为n行2列的多维数组\n",
    "\n",
    "X = real_X[:, 0:1]\n",
    "# 对多维数组real_X切片,返回一个切片后的多维数组X\n",
    "# 下标从列表中获得1个值, 切片从列表中取得多个值\n",
    "# 切片有两个用冒号:分隔的整数,例如sample_list=[1,2,3,4,5], sample_list[1:4]\n",
    "# 在切片中,第一个整数是切片开始处的下标\n",
    "# 第二个整数是切片结束处的下标,但是不包括这个下标获取的值\n",
    "# 例如sample_list=[1,2,3,4,5]中, sample_list[1:4]获取了列表中下标为[1],[2],[3]的值\n",
    "# 下标包括了冒号左边的整数1,但是不包括冒号右边的整数4\n",
    "# sample_list[1:4]= [2, 3, 4]\n",
    "# 切片还可以省略冒号左右两个数字中的任一个,或者两个数字都省略\n",
    "# 省略冒号左边的数字表示下标取[0],即分片始于列表的开始位置\n",
    "# 省略冒号右边的数字表示下标取列表的长度,即分片直至列表结尾\n",
    "# 例如sample_list=[1,2,3,4,5]中, sample_list[:] = [1,2,3,4,5]\n",
    "# sample_list[:]相当于sample_list[0:5]\n",
    "# 为什么省略右边的数字可以取到最后一个元素？\n",
    "# 上面说过，省略右边数字相当于下标取列表的长度,sample_list=[1,2,3,4,5]中列表长度为5，所以取到下标[5]\n",
    "# 而下标是从[0]开始的，所以下标[4]已经取到了最后一个元素\n",
    "# 切片的规则是不包括以冒号右边整数为下标获取的值\n",
    "# 所以sample_list[:]和sample_list[0:5]都能获取整个sample_list列表\n",
    "\n",
    "# 本段代码中，real_X[:, 0:1]实际上对real_X进行了两次切片操作\n",
    "# [:, 0:1]中逗号前的切片:表示对real_X列表按照[:]截取\n",
    "# real_X中的每个元素本身又是一个列表\n",
    "# [:, 0:1]中逗号后的切片0:1表示对real_X中的每个元素按照[0:1]截取\n",
    "# X = real_X[:, 0:1] 获取的X是n行1列的多维数组,X中的每个元素都是数组\n",
    "\n",
    "db = skc.DBSCAN(eps=0.01, min_samples=20).fit(X)\n",
    "\n",
    "# skc.DBSCAN(eps=0.01, min_samples=20) 本行代码经过了如下计算流程：\n",
    "# • 以每个点为中心，计算在这个中心的半径eps=0.01范围内，共有多少个点(包括中心点自己),即邻域内总共有多少个点\n",
    "# • 如果邻域内点的个数超过min_samples=20，这个点是核心点\n",
    "# • 查看剩余点是否在核心点的邻域内，若在则为边界点，否则为噪声点\n",
    "# skc.DBSCAN(eps=0.01, min_samples=20)返回的对象类型是 sklearn.cluster.dbscan_.DBSCAN\n",
    "# fix()方法:\n",
    "# skc.DBSCAN(eps=0.01, min_samples=20)定义了DBSCAN的基本参数后，使用fix()方法,传入数据集,得到最终结果\n",
    "# db = skc.DBSCAN(eps=0.01, min_samples=20).fix(X) 返回的对象类型也是 sklearn.cluster.dbscan_.DBSCAN\n",
    "\n",
    "# DBSCAN(Density-Based Spatial Clustering of Application with Noise)\n",
    "# DBSCAN算法是一种基于密度的聚类：\n",
    "# • 聚类的时候不需要预先指定簇个数\n",
    "# • 最终的簇个数不定\n",
    "\n",
    "# DBSCAN算法将数据点分为三类：\n",
    "# • 核心点：在半径eps内含有超过min_samples数目的点\n",
    "# • 边界点：在半径eps内点的数量小于min_samples，但是落在核心点的邻域内\n",
    "# • 噪音点：既不是核心也不是边界点\n",
    "\n",
    "# sklearn.cluster.DBSCAN函数的完整参数如下\n",
    "# class sklearn.cluster.DBSCAN (eps=0.5, min_samples=5, metric='euclidean',\n",
    "# metric_params=None, algorithm='auto', leaf_size=30, p=None, n_jobs=1)\n",
    "# 这里只介绍前3个常用参数,其他参数可以查看sklearn.cluster.DBSCAN的官方文档\n",
    "# • eps：两个样本被看作近邻的最大距离，超出这个距离不算近邻\n",
    "# • min_samples：近邻的最少样本数，达到这个数量某个点才能被认为是核心点(包括这个点自身)\n",
    "# • metric='euclidean': 距离计算方式，DBSCAN使用默认的欧式距离可以满足大部分需求\n",
    "\n",
    "# eps\n",
    "# • eps默认值是0.5\n",
    "# • eps过大，则更多的点会落在核心点的邻域内, 此时类别数可能会减少，本来不应该是一类的样本也会被划为一类\n",
    "# • 反之eps过小则类别数可能会增大，本来是一类的样本却被划分开\n",
    "\n",
    "# min_samples\n",
    "# • min_samples默认值是5\n",
    "# • 在eps一定的情况下\n",
    "# • min_samples过大，则核心点会过少, 此时簇内部分本来是一类的样本可能会被标为噪音点，类别数也会变多\n",
    "# • 反之min_samples过小，则会产生大量的核心点，可能会导致类别数过少\n",
    "\n",
    "# eps和min_samples常在一起调参，两个值的组合最终影响了聚类效果\n",
    "\n",
    "# metric常用的度量参数有:\n",
    "# a) 欧式距离 'euclidean'\n",
    "# b) 曼哈顿距离 'manhattan'\n",
    "# c) 切比雪夫距离'chebyshev'\n",
    "# d) 闵可夫斯基距离'minkowski', 欧氏距离和曼哈顿距离都源自闵可夫斯基距离\n",
    "# e) 带权重闵可夫斯基距离'wminkowski'\n",
    "# f) 标准化欧式距离'seuclidean', 即对于各特征维度做了归一化以后的欧式距离, 此时各样本特征维度的均值为0，方差为1.\n",
    "# g) 马氏距离'mahalanobis'\n",
    "\n",
    "labels = db.labels_\n",
    "# labels_是sklearn.cluster.dbscan_.DBSCAN的属性\n",
    "# 通过sklearn.cluster.dbscan_.DBSCAN的对象db获取.labels_\n",
    "# labels = db.labels_就是skc.DBSCAN(eps=0.01, min_samples=20).fit(X)计算生成的簇的标签,噪声点的标签是-1\n",
    "# labels的类型是numpy.ndarray\n",
    "\n",
    "print('Labels:')\n",
    "print(labels)  # 将labels这个ndarray打印出来\n",
    "\n",
    "raito = len(labels[labels[:] == -1]) / len(labels)  # 获取噪声数据占所有数据的比例\n",
    "# labels[:]用切片方式返回一个包含labels所有元素的新ndarray\n",
    "# labels[:] == -1 对labels[:]这个ndarray中的所有元素逐个判断是否等于-1, 每次判断都返回一个bool类型的值\n",
    "# labels[:] == -1 返回一个由bool值组成的ndarray, 这个ndarray的结构和labels[:]原数组完全一致\n",
    "# labels[labels[:] == -1] 从labels中获取所有bool值为True对应的数值(就是-1), 最终结果是一个ndarray\n",
    "# 所以labels[labels[:] == -1] 最终返回了一个由数值-1组成的ndarray\n",
    "# len(labels[labels[:] == -1]) 获得这个-1组成的ndarray的长度,也就是噪声数据的数目\n",
    "# len(labels)是labels总长度,即labels总数\n",
    "# raito = len(labels[labels[:] == -1]) / len(labels) 得到噪声点与总数之比\n",
    "\n",
    "print('Noise raito:', format(raito, '.2%'))\n",
    "\n",
    "n_clusters_ = len(set(labels)) - (1 if -1 in labels else 0)\n",
    "# 通过set(labels)对簇标签labels去重\n",
    "# len(set(labels))得到去重后簇标签的总数,即簇的总数(包括噪声点在内)\n",
    "# 1 if -1 in labels else 0 遍历labels，判断labels中是否有-1标签，即噪声点\n",
    "# 如果labels存在噪声点,经过set(labels)去重后,在len(set(labels))就只包含了1个-1\n",
    "# 用len(set(labels))减1,排除噪声点,得到没有噪声点的簇总数\n",
    "# 如果不存在噪声点,(1 if -1 in labels else 0得到数值0)\n",
    "# len(set(labels)) - 0 保持不变\n",
    "\n",
    "print('Estimated number of clusters: %d' % n_clusters_)\n",
    "# 打印簇总数n_clusters_\n",
    "\n",
    "print(\"Silhouette Coefficient: %0.3f\" % metrics.silhouette_score(X, labels))\n",
    "# sklearn.metrics.silhouette_score 用于计算所有样本轮廓系数的均值\n",
    "# metrics.silhouette_score(X, labels)\n",
    "# 参数X是数据集\n",
    "# 参数labels是数据集的所有簇标签\n",
    "# metrics.silhouette_score的返回结果是轮廓系数的均值,数据类型是float\n",
    "# 这个轮廓系数均值用来评价聚类效果\n",
    "\n",
    "for i in range(n_clusters_):\n",
    "    print('Cluster ', i, ':')\n",
    "    print(list(X[labels == i].flatten()))\n",
    "\n",
    "# python3中的rang()是一个迭代器\n",
    "# rang()的参数必须是整数类型\n",
    "# rang()传入一个整数参数时,用来产生从零算起的一系列整数,但不包括这个整数\n",
    "# rang()传入两个整数参数时,第一个参数视为下边界,即不再从零开始,从第一个参数开始,到第二个参数截止\n",
    "# rang()传入三个整数参数时,第三个整数作为步进值,函数默认的步进值是1\n",
    "# range()常用在for循环中产生索引\n",
    "# range()也常和list()组合产生整数列表\n",
    "# range(n_clusters_)使用簇的总数为for循环生成了默认步长为1的一系列整数索引\n",
    "# for i in range(n_clusters_):\n",
    "#     print('Cluster ', i, ':')\n",
    "# for循环在python中是一个通用的序列迭代器,可以遍历任何有序的序列对象内的元素\n",
    "# for循环可拥有字符串、列表、元组、其他内置可迭代对象等\n",
    "# for i in range(n_clusters_) 本行代码就使用for循环遍历了内置的迭代器rang()函数\n",
    "# i是从range(n_clusters_)中依次取到的每一个整数\n",
    "# print('Cluster ', i, ':') 有多少个簇,就打印多少个i\n",
    "# labels == i 依次检查labels中的每个元素是否与i相等\n",
    "# labels == i 返回一个结构与labels相同的以bool值组成的新数组\n",
    "# X[labels == i] 依次检查X中的每个元素,将对应[labels == i]中True的元素取出\n",
    "# X[labels == i] 返回一个符合条件labels == i的新数组\n",
    "\n",
    "plt.hist(X, 24)  # 绘制直方图\n",
    "\n",
    "# matplotlib.pyplot 是一个命令行式风格的函数库,能够实现MATLAB类似的绘图功能\n",
    "# matplotlib.pyplot.hist 用于绘制直方图\n",
    "# matplotlib.pyplot.hist 函数有一个很长的参数列表, 这里只讲解前两个参数\n",
    "# matplotlib.pyplot.hist(x, bins=None)\n",
    "# 第一个参数x是原始数据，类型是数组或者序列\n",
    "# 第二个参数bins表示直方图横直方条的个数\n",
    "# plt.hist(X, 24) 本行代码传入前面获得的多维数组X,按照24小时时段划分为24个直方条\n",
    "\n",
    "plt.show()  # 课件的源代码中没有这一行,加上这行代码在运行完成后显示matplotlib.pyplot画出的图形\n",
    "\n",
    "# 参考书目和文章：\n",
    "# • 《Python编程快速上手——让繁琐工作自动化》,作者Al Sweigart, 译者王海鹏\n",
    "# • 《Python学习手册》,作者Mark Lutz, 译者李军、刘红伟等\n",
    "# • 《利用Python进行数据分析》,作者Wes McKinney,译者唐学韬\n",
    "# • 《用scikit-learn学习DBSCAN聚类》(https://www.cnblogs.com/pinard/p/6217852.html)\n",
    "# • 《DBSCAN - 基于密度的聚类算法》(http://blog.csdn.net/sandyzhs/article/details/46773731)\n",
    "# • sklearn.cluster.DBSCAN官方文档(http://scikit-learn.org/stable/modules/generated/sklearn.cluster.DBSCAN.html)\n",
    "# • 注释中的一些描述，直接从书中或文章中摘取了原句"
   ]
  },
  {
   "cell_type": "code",
   "execution_count": 4,
   "metadata": {
    "collapsed": true
   },
   "outputs": [],
   "source": [
    "# 利用图像的灰度,颜色,纹理,形状等特征,把图像分成若干互不重叠的区域\n",
    "# 并使这些特征在同一区域内呈现相似性,在不同区域之间存在明显的差异性\n",
    "# 然后就可以将分割的图像中具有独特性质的区域提取出来用于不同的研究\n",
    "# 图像分割的应用: 轮毂裂纹图像的分割; 肝脏CT图像的分割\n",
    "# 图像分割常用方法:\n",
    "# 1. 阈值分割: 对图像灰度值进行度量,设置不同的阈值,达到分割的目的\n",
    "# 2. 边缘分割: 对图像边缘进行检测,即检测图像中灰度值发生跳变的地方,则为一片区域的边缘\n",
    "# 3. 直方图法: 对图像的颜色建立直方图,直方图的波峰波谷能够表示一块区域的颜色值范围,来达到分割的目的\n",
    "# 4. 特定理论: 基于聚类分析,小波变换等理论完成图像分割"
   ]
  },
  {
   "cell_type": "code",
   "execution_count": null,
   "metadata": {
    "collapsed": true
   },
   "outputs": [],
   "source": [
    "# 本例描述\n",
    "# 目标: 利用K-means聚类算法对图像像素点进行聚类实现简单的图像分割\n",
    "# 输出: 同一聚类中的点使用相同的颜色标记,不同聚类颜色不同\n",
    "# 实验步骤:\n",
    "# 1. 建立工程并导入sklearn包\n",
    "# 2. 加载图片进行预处理\n",
    "# 3. 加载K-means聚类算法\n",
    "# 4. 对像素点进行聚类并输出"
   ]
  },
  {
   "cell_type": "code",
   "execution_count": 26,
   "metadata": {
    "collapsed": true
   },
   "outputs": [],
   "source": [
    "import numpy as np\n",
    "import PIL.Image as image  # 导入PIL包,用于加载创建图片\n",
    "from sklearn.cluster import KMeans  # 加载KMeans算法"
   ]
  },
  {
   "cell_type": "code",
   "execution_count": 27,
   "metadata": {
    "collapsed": true
   },
   "outputs": [],
   "source": [
    "def loadData(filePath):\n",
    "    f = open(filePath, 'rb')  # 以二进制的形式打开文件\n",
    "    # Python 的 open() 下, ‘r’代表可读, 包括'+'代表可读可写\n",
    "    # 'b'代表二进制模式访问\n",
    "    # 对于所有POSIX兼容的Unix系统(包括Linux)来说,'b'是可由可无的\n",
    "    # 因为它们把所有的文件当作二进制文件，包括文本文件\n",
    "    data = []  # 创建一个名为data的数组\n",
    "    img = image.open(f)  # PIL.Image.open()方法以列表形式返回图像像素值\n",
    "    m, n = img.size  # 获得图片的大小,纵值m,横值n\n",
    "    for i in range(m):\n",
    "        for j in range(n):  # 将每个像素点RGB颜色处理到0-1范围内并放进data\n",
    "            x, y, z = img.getpixel((i, j))  # 获取图片的pixel值??为什么是x,y,z??\n",
    "            data.append([x / 256.0, y / 256.0, z / 256.0])  # ??为什么/256.0\n",
    "    f.close()  # 关闭文件流\n",
    "    return np.mat(data), m, n  # 分别返回三个数据,data,图片大小的纵值m和横值n\n",
    "    # np.mat()方法将数据变为矩阵"
   ]
  },
  {
   "cell_type": "code",
   "execution_count": 30,
   "metadata": {
    "collapsed": true
   },
   "outputs": [],
   "source": [
    "imgData, row, col = loadData('bull.jpg')  # 调用自定义方法加载图片,获得三个返回值\n",
    "km = KMeans(n_clusters=4)\n",
    "# 加载KMeans算法, n_clusters指定了聚类中心个数为4\n",
    "label = km.fit_predict(imgData)  # 聚类获得每个像素所属的类别\n",
    "# fit_predict方法作用????\n",
    "label = label.reshape([row, col])  # reshape方法????\n",
    "pic_new = image.new(\"L\", (row, col))  # 创建一张新的灰度图保存聚类后的结果\n",
    "for i in range(row):\n",
    "    for j in range(col):\n",
    "        pic_new.putpixel((i, j), int(256 / (label[i][j] + 1)))  # 根据所属类别向图片添加灰度值\n",
    "pic_new.save(\"result-bull-4.jpg\", \"JPEG\")  # 以JPEG格式保存图片\n",
    "\n",
    "\n",
    "# 通过设置不同的 k值,能够得到不同的聚类结果\n",
    "# 同时k值的不确定也是Kmeans算法的一个缺点\n",
    "# 为了达到好实验结果,需要进行多次尝试才能够选取最优的 k值\n",
    "# 而像层次聚类的算法,就无需指定k值,只要给定限制条件,就能自动地得到类别数\n"
   ]
  },
  {
   "cell_type": "code",
   "execution_count": 14,
   "metadata": {
    "collapsed": true
   },
   "outputs": [],
   "source": [
    "from PIL import Image\n",
    "def show(fileName):  \n",
    "    pil_im=Image.open(fileName)\n",
    "    pil_im.show()\n",
    "    pil_im.close()"
   ]
  },
  {
   "cell_type": "code",
   "execution_count": 31,
   "metadata": {
    "collapsed": true
   },
   "outputs": [],
   "source": [
    "show(\"bull.jpg\")"
   ]
  },
  {
   "cell_type": "code",
   "execution_count": 32,
   "metadata": {},
   "outputs": [
    {
     "name": "stderr",
     "output_type": "stream",
     "text": [
      "C:\\Users\\Administrator\\Anaconda3\\lib\\site-packages\\sklearn\\cross_validation.py:41: DeprecationWarning: This module was deprecated in version 0.18 in favor of the model_selection module into which all the refactored classes and functions are moved. Also note that the interface of the new CV iterators are different from that of this module. This module will be removed in 0.20.\n",
      "  \"This module will be removed in 0.20.\", DeprecationWarning)\n"
     ]
    }
   ],
   "source": [
    "import pandas as pd\n",
    "import numpy as np\n",
    "\n",
    "from sklearn.preprocessing import Imputer\n",
    "from sklearn.cross_validation import train_test_split\n",
    "from sklearn.metrics import classification_report\n",
    "\n",
    "from sklearn.neighbors import KNeighborsClassifier\n",
    "from sklearn.tree import DecisionTreeClassifier\n",
    "from sklearn.naive_bayes import GaussianNB"
   ]
  },
  {
   "cell_type": "code",
   "execution_count": 33,
   "metadata": {
    "collapsed": true
   },
   "outputs": [],
   "source": [
    "def load_datasets(feature_paths, label_paths):\n",
    "    feature = np.ndarray(shape=(0, 41))\n",
    "    label = np.ndarray(shape=(0, 1))\n",
    "    for file in feature_paths:\n",
    "        df = pd.read_table(file, delimiter=',', na_values='?', header=None)\n",
    "        imp = Imputer(missing_values='NaN', strategy='mean', axis=0)\n",
    "        imp.fit(df)\n",
    "        df = imp.transform(df)\n",
    "        feature = np.concatenate((feature, df))\n",
    "\n",
    "    for file in label_paths:\n",
    "        df = pd.read_table(file, header=None)\n",
    "        label = np.concatenate((label, df))\n",
    "\n",
    "    label = np.ravel(label)\n",
    "    return feature, label"
   ]
  },
  {
   "cell_type": "code",
   "execution_count": 1,
   "metadata": {},
   "outputs": [
    {
     "ename": "NameError",
     "evalue": "name 'load_datasets' is not defined",
     "output_type": "error",
     "traceback": [
      "\u001b[1;31m---------------------------------------------------------------------------\u001b[0m",
      "\u001b[1;31mNameError\u001b[0m                                 Traceback (most recent call last)",
      "\u001b[1;32m<ipython-input-1-9d13d36e30cf>\u001b[0m in \u001b[0;36m<module>\u001b[1;34m()\u001b[0m\n\u001b[0;32m      4\u001b[0m     \u001b[0mlabelPaths\u001b[0m \u001b[1;33m=\u001b[0m \u001b[1;33m[\u001b[0m\u001b[1;34m'A/A.label'\u001b[0m\u001b[1;33m,\u001b[0m \u001b[1;34m'B/B.label'\u001b[0m\u001b[1;33m,\u001b[0m \u001b[1;34m'C/C.label'\u001b[0m\u001b[1;33m,\u001b[0m \u001b[1;34m'D/D.label'\u001b[0m\u001b[1;33m,\u001b[0m \u001b[1;34m'E/E.label'\u001b[0m\u001b[1;33m]\u001b[0m\u001b[1;33m\u001b[0m\u001b[0m\n\u001b[0;32m      5\u001b[0m     \u001b[1;34m''' 读入数据  '''\u001b[0m\u001b[1;33m\u001b[0m\u001b[0m\n\u001b[1;32m----> 6\u001b[1;33m     \u001b[0mx_train\u001b[0m\u001b[1;33m,\u001b[0m \u001b[0my_train\u001b[0m \u001b[1;33m=\u001b[0m \u001b[0mload_datasets\u001b[0m\u001b[1;33m(\u001b[0m\u001b[0mfeaturePaths\u001b[0m\u001b[1;33m[\u001b[0m\u001b[1;33m:\u001b[0m\u001b[1;36m4\u001b[0m\u001b[1;33m]\u001b[0m\u001b[1;33m,\u001b[0m \u001b[0mlabelPaths\u001b[0m\u001b[1;33m[\u001b[0m\u001b[1;33m:\u001b[0m\u001b[1;36m4\u001b[0m\u001b[1;33m]\u001b[0m\u001b[1;33m)\u001b[0m\u001b[1;33m\u001b[0m\u001b[0m\n\u001b[0m\u001b[0;32m      7\u001b[0m     \u001b[0mx_test\u001b[0m\u001b[1;33m,\u001b[0m \u001b[0my_test\u001b[0m \u001b[1;33m=\u001b[0m \u001b[0mload_datasets\u001b[0m\u001b[1;33m(\u001b[0m\u001b[0mfeaturePaths\u001b[0m\u001b[1;33m[\u001b[0m\u001b[1;36m4\u001b[0m\u001b[1;33m:\u001b[0m\u001b[1;33m]\u001b[0m\u001b[1;33m,\u001b[0m \u001b[0mlabelPaths\u001b[0m\u001b[1;33m[\u001b[0m\u001b[1;36m4\u001b[0m\u001b[1;33m:\u001b[0m\u001b[1;33m]\u001b[0m\u001b[1;33m)\u001b[0m\u001b[1;33m\u001b[0m\u001b[0m\n\u001b[0;32m      8\u001b[0m     \u001b[0mx_train\u001b[0m\u001b[1;33m,\u001b[0m \u001b[0mx_\u001b[0m\u001b[1;33m,\u001b[0m \u001b[0my_train\u001b[0m\u001b[1;33m,\u001b[0m \u001b[0my_\u001b[0m \u001b[1;33m=\u001b[0m \u001b[0mtrain_test_split\u001b[0m\u001b[1;33m(\u001b[0m\u001b[0mx_train\u001b[0m\u001b[1;33m,\u001b[0m \u001b[0my_train\u001b[0m\u001b[1;33m,\u001b[0m \u001b[0mtest_size\u001b[0m\u001b[1;33m=\u001b[0m\u001b[1;36m0.0\u001b[0m\u001b[1;33m)\u001b[0m\u001b[1;33m\u001b[0m\u001b[0m\n",
      "\u001b[1;31mNameError\u001b[0m: name 'load_datasets' is not defined"
     ]
    }
   ],
   "source": [
    "if __name__ == '__main__':\n",
    "    ''' 数据路径 '''\n",
    "    featurePaths = ['A/A.feature', 'B/B.feature', 'C/C.feature', 'D/D.feature', 'E/E.feature']\n",
    "    labelPaths = ['A/A.label', 'B/B.label', 'C/C.label', 'D/D.label', 'E/E.label']\n",
    "    ''' 读入数据  '''\n",
    "    x_train, y_train = load_datasets(featurePaths[:4], labelPaths[:4])\n",
    "    x_test, y_test = load_datasets(featurePaths[4:], labelPaths[4:])\n",
    "    x_train, x_, y_train, y_ = train_test_split(x_train, y_train, test_size=0.0)\n",
    "\n",
    "    print('Start training knn')\n",
    "    knn = KNeighborsClassifier().fit(x_train, y_train)\n",
    "    print('Training done')\n",
    "    answer_knn = knn.predict(x_test)\n",
    "    print('Prediction done')\n",
    "\n",
    "    print('Start training DT')\n",
    "    dt = DecisionTreeClassifier().fit(x_train, y_train)\n",
    "    print('Training done')\n",
    "    answer_dt = dt.predict(x_test)\n",
    "    print('Prediction done')\n",
    "\n",
    "    print('Start training Bayes')\n",
    "    gnb = GaussianNB().fit(x_train, y_train)\n",
    "    print('Training done')\n",
    "    answer_gnb = gnb.predict(x_test)\n",
    "    print('Prediction done')\n",
    "\n",
    "    print('\\n\\nThe classification report for knn:')\n",
    "    print(classification_report(y_test, answer_knn))\n",
    "    print('\\n\\nThe classification report for DT:')\n",
    "    print(classification_report(y_test, answer_dt))\n",
    "    print('\\n\\nThe classification report for Bayes:')\n",
    "    print(classification_report(y_test, answer_gnb))"
   ]
  },
  {
   "cell_type": "code",
   "execution_count": 2,
   "metadata": {},
   "outputs": [
    {
     "name": "stderr",
     "output_type": "stream",
     "text": [
      "C:\\Users\\Administrator\\Anaconda3\\lib\\site-packages\\sklearn\\cross_validation.py:41: DeprecationWarning: This module was deprecated in version 0.18 in favor of the model_selection module into which all the refactored classes and functions are moved. Also note that the interface of the new CV iterators are different from that of this module. This module will be removed in 0.20.\n",
      "  \"This module will be removed in 0.20.\", DeprecationWarning)\n"
     ]
    }
   ],
   "source": [
    "import pandas as pd\n",
    "import numpy as np\n",
    "from sklearn import svm\n",
    "from sklearn import cross_validation"
   ]
  },
  {
   "cell_type": "code",
   "execution_count": 3,
   "metadata": {},
   "outputs": [
    {
     "ename": "FileNotFoundError",
     "evalue": "File b'stock/000777.csv' does not exist",
     "output_type": "error",
     "traceback": [
      "\u001b[1;31m---------------------------------------------------------------------------\u001b[0m",
      "\u001b[1;31mFileNotFoundError\u001b[0m                         Traceback (most recent call last)",
      "\u001b[1;32m<ipython-input-3-d702197ee036>\u001b[0m in \u001b[0;36m<module>\u001b[1;34m()\u001b[0m\n\u001b[1;32m----> 1\u001b[1;33m \u001b[0mdata\u001b[0m \u001b[1;33m=\u001b[0m \u001b[0mpd\u001b[0m\u001b[1;33m.\u001b[0m\u001b[0mread_csv\u001b[0m\u001b[1;33m(\u001b[0m\u001b[1;34m'stock/000777.csv'\u001b[0m\u001b[1;33m,\u001b[0m \u001b[0mencoding\u001b[0m\u001b[1;33m=\u001b[0m\u001b[1;34m'gbk'\u001b[0m\u001b[1;33m,\u001b[0m \u001b[0mparse_dates\u001b[0m\u001b[1;33m=\u001b[0m\u001b[1;33m[\u001b[0m\u001b[1;36m0\u001b[0m\u001b[1;33m]\u001b[0m\u001b[1;33m,\u001b[0m \u001b[0mindex_col\u001b[0m\u001b[1;33m=\u001b[0m\u001b[1;36m0\u001b[0m\u001b[1;33m)\u001b[0m\u001b[1;33m\u001b[0m\u001b[0m\n\u001b[0m\u001b[0;32m      2\u001b[0m \u001b[0mdata\u001b[0m\u001b[1;33m.\u001b[0m\u001b[0msort_index\u001b[0m\u001b[1;33m(\u001b[0m\u001b[1;36m0\u001b[0m\u001b[1;33m,\u001b[0m \u001b[0mascending\u001b[0m\u001b[1;33m=\u001b[0m\u001b[1;32mTrue\u001b[0m\u001b[1;33m,\u001b[0m \u001b[0minplace\u001b[0m\u001b[1;33m=\u001b[0m\u001b[1;32mTrue\u001b[0m\u001b[1;33m)\u001b[0m\u001b[1;33m\u001b[0m\u001b[0m\n\u001b[0;32m      3\u001b[0m \u001b[1;33m\u001b[0m\u001b[0m\n\u001b[0;32m      4\u001b[0m \u001b[0mdayfeature\u001b[0m \u001b[1;33m=\u001b[0m \u001b[1;36m150\u001b[0m\u001b[1;33m\u001b[0m\u001b[0m\n\u001b[0;32m      5\u001b[0m \u001b[0mfeaturenum\u001b[0m \u001b[1;33m=\u001b[0m \u001b[1;36m5\u001b[0m \u001b[1;33m*\u001b[0m \u001b[0mdayfeature\u001b[0m\u001b[1;33m\u001b[0m\u001b[0m\n",
      "\u001b[1;32m~\\Anaconda3\\lib\\site-packages\\pandas\\io\\parsers.py\u001b[0m in \u001b[0;36mparser_f\u001b[1;34m(filepath_or_buffer, sep, delimiter, header, names, index_col, usecols, squeeze, prefix, mangle_dupe_cols, dtype, engine, converters, true_values, false_values, skipinitialspace, skiprows, nrows, na_values, keep_default_na, na_filter, verbose, skip_blank_lines, parse_dates, infer_datetime_format, keep_date_col, date_parser, dayfirst, iterator, chunksize, compression, thousands, decimal, lineterminator, quotechar, quoting, escapechar, comment, encoding, dialect, tupleize_cols, error_bad_lines, warn_bad_lines, skipfooter, skip_footer, doublequote, delim_whitespace, as_recarray, compact_ints, use_unsigned, low_memory, buffer_lines, memory_map, float_precision)\u001b[0m\n\u001b[0;32m    653\u001b[0m                     skip_blank_lines=skip_blank_lines)\n\u001b[0;32m    654\u001b[0m \u001b[1;33m\u001b[0m\u001b[0m\n\u001b[1;32m--> 655\u001b[1;33m         \u001b[1;32mreturn\u001b[0m \u001b[0m_read\u001b[0m\u001b[1;33m(\u001b[0m\u001b[0mfilepath_or_buffer\u001b[0m\u001b[1;33m,\u001b[0m \u001b[0mkwds\u001b[0m\u001b[1;33m)\u001b[0m\u001b[1;33m\u001b[0m\u001b[0m\n\u001b[0m\u001b[0;32m    656\u001b[0m \u001b[1;33m\u001b[0m\u001b[0m\n\u001b[0;32m    657\u001b[0m     \u001b[0mparser_f\u001b[0m\u001b[1;33m.\u001b[0m\u001b[0m__name__\u001b[0m \u001b[1;33m=\u001b[0m \u001b[0mname\u001b[0m\u001b[1;33m\u001b[0m\u001b[0m\n",
      "\u001b[1;32m~\\Anaconda3\\lib\\site-packages\\pandas\\io\\parsers.py\u001b[0m in \u001b[0;36m_read\u001b[1;34m(filepath_or_buffer, kwds)\u001b[0m\n\u001b[0;32m    403\u001b[0m \u001b[1;33m\u001b[0m\u001b[0m\n\u001b[0;32m    404\u001b[0m     \u001b[1;31m# Create the parser.\u001b[0m\u001b[1;33m\u001b[0m\u001b[1;33m\u001b[0m\u001b[0m\n\u001b[1;32m--> 405\u001b[1;33m     \u001b[0mparser\u001b[0m \u001b[1;33m=\u001b[0m \u001b[0mTextFileReader\u001b[0m\u001b[1;33m(\u001b[0m\u001b[0mfilepath_or_buffer\u001b[0m\u001b[1;33m,\u001b[0m \u001b[1;33m**\u001b[0m\u001b[0mkwds\u001b[0m\u001b[1;33m)\u001b[0m\u001b[1;33m\u001b[0m\u001b[0m\n\u001b[0m\u001b[0;32m    406\u001b[0m \u001b[1;33m\u001b[0m\u001b[0m\n\u001b[0;32m    407\u001b[0m     \u001b[1;32mif\u001b[0m \u001b[0mchunksize\u001b[0m \u001b[1;32mor\u001b[0m \u001b[0miterator\u001b[0m\u001b[1;33m:\u001b[0m\u001b[1;33m\u001b[0m\u001b[0m\n",
      "\u001b[1;32m~\\Anaconda3\\lib\\site-packages\\pandas\\io\\parsers.py\u001b[0m in \u001b[0;36m__init__\u001b[1;34m(self, f, engine, **kwds)\u001b[0m\n\u001b[0;32m    762\u001b[0m             \u001b[0mself\u001b[0m\u001b[1;33m.\u001b[0m\u001b[0moptions\u001b[0m\u001b[1;33m[\u001b[0m\u001b[1;34m'has_index_names'\u001b[0m\u001b[1;33m]\u001b[0m \u001b[1;33m=\u001b[0m \u001b[0mkwds\u001b[0m\u001b[1;33m[\u001b[0m\u001b[1;34m'has_index_names'\u001b[0m\u001b[1;33m]\u001b[0m\u001b[1;33m\u001b[0m\u001b[0m\n\u001b[0;32m    763\u001b[0m \u001b[1;33m\u001b[0m\u001b[0m\n\u001b[1;32m--> 764\u001b[1;33m         \u001b[0mself\u001b[0m\u001b[1;33m.\u001b[0m\u001b[0m_make_engine\u001b[0m\u001b[1;33m(\u001b[0m\u001b[0mself\u001b[0m\u001b[1;33m.\u001b[0m\u001b[0mengine\u001b[0m\u001b[1;33m)\u001b[0m\u001b[1;33m\u001b[0m\u001b[0m\n\u001b[0m\u001b[0;32m    765\u001b[0m \u001b[1;33m\u001b[0m\u001b[0m\n\u001b[0;32m    766\u001b[0m     \u001b[1;32mdef\u001b[0m \u001b[0mclose\u001b[0m\u001b[1;33m(\u001b[0m\u001b[0mself\u001b[0m\u001b[1;33m)\u001b[0m\u001b[1;33m:\u001b[0m\u001b[1;33m\u001b[0m\u001b[0m\n",
      "\u001b[1;32m~\\Anaconda3\\lib\\site-packages\\pandas\\io\\parsers.py\u001b[0m in \u001b[0;36m_make_engine\u001b[1;34m(self, engine)\u001b[0m\n\u001b[0;32m    983\u001b[0m     \u001b[1;32mdef\u001b[0m \u001b[0m_make_engine\u001b[0m\u001b[1;33m(\u001b[0m\u001b[0mself\u001b[0m\u001b[1;33m,\u001b[0m \u001b[0mengine\u001b[0m\u001b[1;33m=\u001b[0m\u001b[1;34m'c'\u001b[0m\u001b[1;33m)\u001b[0m\u001b[1;33m:\u001b[0m\u001b[1;33m\u001b[0m\u001b[0m\n\u001b[0;32m    984\u001b[0m         \u001b[1;32mif\u001b[0m \u001b[0mengine\u001b[0m \u001b[1;33m==\u001b[0m \u001b[1;34m'c'\u001b[0m\u001b[1;33m:\u001b[0m\u001b[1;33m\u001b[0m\u001b[0m\n\u001b[1;32m--> 985\u001b[1;33m             \u001b[0mself\u001b[0m\u001b[1;33m.\u001b[0m\u001b[0m_engine\u001b[0m \u001b[1;33m=\u001b[0m \u001b[0mCParserWrapper\u001b[0m\u001b[1;33m(\u001b[0m\u001b[0mself\u001b[0m\u001b[1;33m.\u001b[0m\u001b[0mf\u001b[0m\u001b[1;33m,\u001b[0m \u001b[1;33m**\u001b[0m\u001b[0mself\u001b[0m\u001b[1;33m.\u001b[0m\u001b[0moptions\u001b[0m\u001b[1;33m)\u001b[0m\u001b[1;33m\u001b[0m\u001b[0m\n\u001b[0m\u001b[0;32m    986\u001b[0m         \u001b[1;32melse\u001b[0m\u001b[1;33m:\u001b[0m\u001b[1;33m\u001b[0m\u001b[0m\n\u001b[0;32m    987\u001b[0m             \u001b[1;32mif\u001b[0m \u001b[0mengine\u001b[0m \u001b[1;33m==\u001b[0m \u001b[1;34m'python'\u001b[0m\u001b[1;33m:\u001b[0m\u001b[1;33m\u001b[0m\u001b[0m\n",
      "\u001b[1;32m~\\Anaconda3\\lib\\site-packages\\pandas\\io\\parsers.py\u001b[0m in \u001b[0;36m__init__\u001b[1;34m(self, src, **kwds)\u001b[0m\n\u001b[0;32m   1603\u001b[0m         \u001b[0mkwds\u001b[0m\u001b[1;33m[\u001b[0m\u001b[1;34m'allow_leading_cols'\u001b[0m\u001b[1;33m]\u001b[0m \u001b[1;33m=\u001b[0m \u001b[0mself\u001b[0m\u001b[1;33m.\u001b[0m\u001b[0mindex_col\u001b[0m \u001b[1;32mis\u001b[0m \u001b[1;32mnot\u001b[0m \u001b[1;32mFalse\u001b[0m\u001b[1;33m\u001b[0m\u001b[0m\n\u001b[0;32m   1604\u001b[0m \u001b[1;33m\u001b[0m\u001b[0m\n\u001b[1;32m-> 1605\u001b[1;33m         \u001b[0mself\u001b[0m\u001b[1;33m.\u001b[0m\u001b[0m_reader\u001b[0m \u001b[1;33m=\u001b[0m \u001b[0mparsers\u001b[0m\u001b[1;33m.\u001b[0m\u001b[0mTextReader\u001b[0m\u001b[1;33m(\u001b[0m\u001b[0msrc\u001b[0m\u001b[1;33m,\u001b[0m \u001b[1;33m**\u001b[0m\u001b[0mkwds\u001b[0m\u001b[1;33m)\u001b[0m\u001b[1;33m\u001b[0m\u001b[0m\n\u001b[0m\u001b[0;32m   1606\u001b[0m \u001b[1;33m\u001b[0m\u001b[0m\n\u001b[0;32m   1607\u001b[0m         \u001b[1;31m# XXX\u001b[0m\u001b[1;33m\u001b[0m\u001b[1;33m\u001b[0m\u001b[0m\n",
      "\u001b[1;32mpandas/_libs/parsers.pyx\u001b[0m in \u001b[0;36mpandas._libs.parsers.TextReader.__cinit__ (pandas\\_libs\\parsers.c:4209)\u001b[1;34m()\u001b[0m\n",
      "\u001b[1;32mpandas/_libs/parsers.pyx\u001b[0m in \u001b[0;36mpandas._libs.parsers.TextReader._setup_parser_source (pandas\\_libs\\parsers.c:8873)\u001b[1;34m()\u001b[0m\n",
      "\u001b[1;31mFileNotFoundError\u001b[0m: File b'stock/000777.csv' does not exist"
     ]
    }
   ],
   "source": [
    "data = pd.read_csv('stock/000777.csv', encoding='gbk', parse_dates=[0], index_col=0)\n",
    "data.sort_index(0, ascending=True, inplace=True)\n",
    "\n",
    "dayfeature = 150\n",
    "featurenum = 5 * dayfeature\n",
    "x = np.zeros((data.shape[0] - dayfeature, featurenum + 1))\n",
    "y = np.zeros((data.shape[0] - dayfeature))"
   ]
  },
  {
   "cell_type": "code",
   "execution_count": 5,
   "metadata": {},
   "outputs": [
    {
     "ename": "NameError",
     "evalue": "name 'data' is not defined",
     "output_type": "error",
     "traceback": [
      "\u001b[1;31m---------------------------------------------------------------------------\u001b[0m",
      "\u001b[1;31mNameError\u001b[0m                                 Traceback (most recent call last)",
      "\u001b[1;32m<ipython-input-5-33766c634978>\u001b[0m in \u001b[0;36m<module>\u001b[1;34m()\u001b[0m\n\u001b[1;32m----> 1\u001b[1;33m \u001b[1;32mfor\u001b[0m \u001b[0mi\u001b[0m \u001b[1;32min\u001b[0m \u001b[0mrange\u001b[0m\u001b[1;33m(\u001b[0m\u001b[1;36m0\u001b[0m\u001b[1;33m,\u001b[0m \u001b[0mdata\u001b[0m\u001b[1;33m.\u001b[0m\u001b[0mshape\u001b[0m\u001b[1;33m[\u001b[0m\u001b[1;36m0\u001b[0m\u001b[1;33m]\u001b[0m \u001b[1;33m-\u001b[0m \u001b[0mdayfeature\u001b[0m\u001b[1;33m)\u001b[0m\u001b[1;33m:\u001b[0m\u001b[1;33m\u001b[0m\u001b[0m\n\u001b[0m\u001b[0;32m      2\u001b[0m     \u001b[0mx\u001b[0m\u001b[1;33m[\u001b[0m\u001b[0mi\u001b[0m\u001b[1;33m,\u001b[0m \u001b[1;36m0\u001b[0m\u001b[1;33m:\u001b[0m\u001b[0mfeaturenum\u001b[0m\u001b[1;33m]\u001b[0m \u001b[1;33m=\u001b[0m \u001b[0mnp\u001b[0m\u001b[1;33m.\u001b[0m\u001b[0marray\u001b[0m\u001b[1;33m(\u001b[0m\u001b[0mdata\u001b[0m\u001b[1;33m[\u001b[0m\u001b[0mi\u001b[0m\u001b[1;33m:\u001b[0m\u001b[0mi\u001b[0m \u001b[1;33m+\u001b[0m \u001b[0mdayfeature\u001b[0m\u001b[1;33m]\u001b[0m                                       \u001b[1;33m[\u001b[0m\u001b[1;33m[\u001b[0m\u001b[1;34mu'收盘价'\u001b[0m\u001b[1;33m,\u001b[0m \u001b[1;34mu'最高价'\u001b[0m\u001b[1;33m,\u001b[0m \u001b[1;34mu'最低价'\u001b[0m\u001b[1;33m,\u001b[0m \u001b[1;34mu'开盘价'\u001b[0m\u001b[1;33m,\u001b[0m \u001b[1;34mu'成交量'\u001b[0m\u001b[1;33m]\u001b[0m\u001b[1;33m]\u001b[0m\u001b[1;33m)\u001b[0m\u001b[1;33m.\u001b[0m\u001b[0mreshape\u001b[0m\u001b[1;33m(\u001b[0m\u001b[1;33m(\u001b[0m\u001b[1;36m1\u001b[0m\u001b[1;33m,\u001b[0m \u001b[0mfeaturenum\u001b[0m\u001b[1;33m)\u001b[0m\u001b[1;33m)\u001b[0m\u001b[1;33m\u001b[0m\u001b[0m\n\u001b[0;32m      3\u001b[0m     \u001b[0mx\u001b[0m\u001b[1;33m[\u001b[0m\u001b[0mi\u001b[0m\u001b[1;33m,\u001b[0m \u001b[0mfeaturenum\u001b[0m\u001b[1;33m]\u001b[0m \u001b[1;33m=\u001b[0m \u001b[0mdata\u001b[0m\u001b[1;33m.\u001b[0m\u001b[0mix\u001b[0m\u001b[1;33m[\u001b[0m\u001b[0mi\u001b[0m \u001b[1;33m+\u001b[0m \u001b[0mdayfeature\u001b[0m\u001b[1;33m]\u001b[0m\u001b[1;33m[\u001b[0m\u001b[1;34mu'开盘价'\u001b[0m\u001b[1;33m]\u001b[0m\u001b[1;33m\u001b[0m\u001b[0m\n\u001b[0;32m      4\u001b[0m \u001b[1;33m\u001b[0m\u001b[0m\n\u001b[0;32m      5\u001b[0m \u001b[1;32mfor\u001b[0m \u001b[0mi\u001b[0m \u001b[1;32min\u001b[0m \u001b[0mrange\u001b[0m\u001b[1;33m(\u001b[0m\u001b[1;36m0\u001b[0m\u001b[1;33m,\u001b[0m \u001b[0mdata\u001b[0m\u001b[1;33m.\u001b[0m\u001b[0mshape\u001b[0m\u001b[1;33m[\u001b[0m\u001b[1;36m0\u001b[0m\u001b[1;33m]\u001b[0m \u001b[1;33m-\u001b[0m \u001b[0mdayfeature\u001b[0m\u001b[1;33m)\u001b[0m\u001b[1;33m:\u001b[0m\u001b[1;33m\u001b[0m\u001b[0m\n",
      "\u001b[1;31mNameError\u001b[0m: name 'data' is not defined"
     ]
    }
   ],
   "source": [
    "for i in range(0, data.shape[0] - dayfeature):\n",
    "    x[i, 0:featurenum] = np.array(data[i:i + dayfeature] \\\n",
    "                                      [[u'收盘价', u'最高价', u'最低价', u'开盘价', u'成交量']]).reshape((1, featurenum))\n",
    "    x[i, featurenum] = data.ix[i + dayfeature][u'开盘价']\n",
    "\n",
    "for i in range(0, data.shape[0] - dayfeature):\n",
    "    if data.ix[i + dayfeature][u'收盘价'] >= data.ix[i + dayfeature][u'开盘价']:\n",
    "        y[i] = 1\n",
    "    else:\n",
    "        y[i] = 0\n",
    "\n",
    "clf = svm.SVC(kernel='rbf')\n",
    "result = []\n",
    "for i in range(5):\n",
    "    x_train, x_test, y_train, y_test = \\\n",
    "        cross_validation.train_test_split(x, y, test_size=0.2)\n",
    "    clf.fit(x_train, y_train)\n",
    "    result.append(np.mean(y_test == clf.predict(x_test)))\n",
    "print(\"svm classifier accuacy:\")\n",
    "print(result)"
   ]
  },
  {
   "cell_type": "code",
   "execution_count": null,
   "metadata": {
    "collapsed": true
   },
   "outputs": [],
   "source": []
  }
 ],
 "metadata": {
  "kernelspec": {
   "display_name": "Python 3",
   "language": "python",
   "name": "python3"
  },
  "language_info": {
   "codemirror_mode": {
    "name": "ipython",
    "version": 3
   },
   "file_extension": ".py",
   "mimetype": "text/x-python",
   "name": "python",
   "nbconvert_exporter": "python",
   "pygments_lexer": "ipython3",
   "version": "3.6.3"
  }
 },
 "nbformat": 4,
 "nbformat_minor": 2
}
